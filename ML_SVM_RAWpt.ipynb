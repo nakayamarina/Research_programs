{
 "cells": [
  {
   "cell_type": "markdown",
   "metadata": {},
   "source": [
    "# SVMによる学習と識別性能評価（生データ+SPM（パターン））"
   ]
  },
  {
   "cell_type": "markdown",
   "metadata": {},
   "source": [
    "---\n",
    "  \n",
    "引数：raw_rest.csv/raw_tap.csvファイルがあるディレクトリまでのパス  \n",
    "  \n",
    "---\n",
    "  \n",
    "入力：raw_rest.csv/raw_tap.csv\n",
    "\n",
    "---\n",
    "  \n",
    "出力：ACCURACY[loo]_(ファイル名)_SVM.csv　識別性能評価\n",
    "\n",
    "---  \n",
    "\n",
    "ある時刻の各ボクセルの値のパターンをベクトルとしてSVMを用いて学習，交差検証法（leave-one-out交差検証）を用いて識別性能評価を行う．\n"
   ]
  },
  {
   "cell_type": "code",
   "execution_count": 1,
   "metadata": {},
   "outputs": [
    {
     "name": "stderr",
     "output_type": "stream",
     "text": [
      "/Users/nakayamarina/.pyenv/versions/anaconda3-4.4.0/lib/python3.6/site-packages/sklearn/cross_validation.py:41: DeprecationWarning: This module was deprecated in version 0.18 in favor of the model_selection module into which all the refactored classes and functions are moved. Also note that the interface of the new CV iterators are different from that of this module. This module will be removed in 0.20.\n",
      "  \"This module will be removed in 0.20.\", DeprecationWarning)\n"
     ]
    }
   ],
   "source": [
    "import numpy as np\n",
    "import pandas as pd\n",
    "import sys\n",
    "\n",
    "from sklearn import cross_validation\n",
    "from sklearn import svm\n",
    "from sklearn.model_selection import train_test_split"
   ]
  },
  {
   "cell_type": "markdown",
   "metadata": {},
   "source": [
    "コマンドライン引数でraw_rest.csv/raw_tap.csvファイルがあるディレクトリまでのパスを取得"
   ]
  },
  {
   "cell_type": "code",
   "execution_count": 2,
   "metadata": {
    "collapsed": true
   },
   "outputs": [],
   "source": [
    "#args = sys.argv\n",
    "#PATH = args[1]\n",
    "\n",
    "# jupyter notebookのときはここで指定\n",
    "PATH = '../Data_block/analysis_by_programs/20170130ar/12ch/RawData/'\n",
    "\n",
    "# 機械学習するデータ（提案手法でベクトル化したcsvファイル）\n",
    "ML_restData = 'raw_rest.csv'\n",
    "ML_tapData = 'raw_tap.csv'\n",
    "\n",
    "# 出力するデータの行名，ファイル名\n",
    "outputIndex = 'RAWpt + SVM'\n",
    "outputFile = 'RAWpt'\n"
   ]
  },
  {
   "cell_type": "markdown",
   "metadata": {},
   "source": [
    "## SVM_LOO関数"
   ]
  },
  {
   "cell_type": "markdown",
   "metadata": {},
   "source": [
    "引数としてTrainingData関数で作成した教師データをX，ラベルをyで受け取る．  \n",
    "交差検証法の一つleave-one-out交差検証で識別精度評価を行う．\n",
    "\n",
    "* (1個をテストデータ，残りを教師データにして学習・評価) * すべてのデータ個\n",
    "* 得られたすべてのデータ個の評価結果（識別率）の平均を求めてパーセントに直す\n",
    "* 評価結果（識別率）をTrainingData関数に返す"
   ]
  },
  {
   "cell_type": "code",
   "execution_count": 3,
   "metadata": {
    "collapsed": true
   },
   "outputs": [],
   "source": [
    "def SVM_LOO(X, y):\n",
    "\n",
    "    LOOscore = np.zeros(len(X))\n",
    "    \n",
    "    # 1個をテストデータ，残りを教師データにして学習・評価\n",
    "    # すべてのデータに対して行う\n",
    "    for i in range(len(X)):\n",
    "        \n",
    "        print('------ ' + str(i) + ' / ' + str(len(X)) + '回 -----')\n",
    "\n",
    "        # テストデータ\n",
    "        X_test = X[i].reshape(1, -1)\n",
    "        y_test = y[i].reshape(1, -1)\n",
    "\n",
    "        # テストデータとして使用するデータを除いた教師データを作成\n",
    "        X_train = np.delete(X, i, 0)\n",
    "        y_train = np.delete(y, i, 0)\n",
    "\n",
    "        # 線形SVMのインスタンスを生成\n",
    "        model = svm.SVC(kernel = 'linear', C = 1)\n",
    "        \n",
    "        # モデルの学習\n",
    "        model.fit(X_train, y_train)\n",
    "\n",
    "        # 評価結果（識別率）を格納\n",
    "        LOOscore[i] = model.score(X_test, y_test)\n",
    "\n",
    "        \n",
    "    # 評価結果（識別率）の平均を求める\n",
    "    result = LOOscore.mean()\n",
    "    \n",
    "    # パーセントに直す\n",
    "    result = round(result * 100, 1)\n",
    "    \n",
    "    print(str(LOOscore) + '\\n')\n",
    "\n",
    "    return result"
   ]
  },
  {
   "cell_type": "markdown",
   "metadata": {},
   "source": [
    "## TrainingData関数 \n",
    "引数として読み込みたいTapping/Restのそれぞれのファイル名をfile_tap/file_restで受け取る． \n",
    "* 機械学習にかけれるようにデータのベクトル化とラベルを作成\n",
    "* データとラベルをSVM_LOO関数に渡す\n",
    "* 帰ってきた識別率をmain関数に返す"
   ]
  },
  {
   "cell_type": "code",
   "execution_count": 4,
   "metadata": {
    "collapsed": true
   },
   "outputs": [],
   "source": [
    "def TrainingData(file_rest, file_tap):\n",
    "    \n",
    "    # 読み込みたいファイルのパス\n",
    "    PATH_rest = PATH + file_rest\n",
    "    PATH_tap = PATH + file_tap\n",
    "\n",
    "    # csvファイル読み込み\n",
    "    rest = pd.read_csv(PATH_rest, header = 0)\n",
    "    tap = pd.read_csv(PATH_tap, header = 0) \n",
    "    \n",
    "    # RestとTappingのデータをまとめる\n",
    "    all_data = pd.concat([rest, tap], axis = 0)\n",
    "\n",
    "    # ベクトル化\n",
    "    X = all_data.as_matrix()\n",
    "\n",
    "    # ラベル作成\n",
    "    label_rest = np.zeros(len(rest.index))\n",
    "    label_tap = np.ones(len(tap.index))\n",
    "\n",
    "    y = np.r_[label_rest, label_tap]\n",
    "\n",
    "    \n",
    "    # 学習とleave-one-out交差検証\n",
    "    \n",
    "    print('leave-one-out')\n",
    "\n",
    "    col_name = 'leave-one-out'\n",
    "    \n",
    "    #print(col_name)\n",
    "    \n",
    "    # SVM_LOO関数\n",
    "    result_LOO = SVM_LOO(X, y)\n",
    "    \n",
    "    # 評価結果（識別率）をデータフレームに変換・格納\n",
    "    ac = pd.DataFrame({col_name : [result_LOO] })\n",
    "    \n",
    "    return ac\n",
    "\n",
    "    "
   ]
  },
  {
   "cell_type": "markdown",
   "metadata": {},
   "source": [
    "## main関数"
   ]
  },
  {
   "cell_type": "code",
   "execution_count": 5,
   "metadata": {},
   "outputs": [
    {
     "name": "stdout",
     "output_type": "stream",
     "text": [
      "\n",
      "--------- RAWpt + SVM Data ---------\n",
      "leave-one-out\n",
      "------ 0 / 120回 -----\n",
      "------ 1 / 120回 -----\n",
      "------ 2 / 120回 -----\n",
      "------ 3 / 120回 -----\n",
      "------ 4 / 120回 -----\n",
      "------ 5 / 120回 -----\n",
      "------ 6 / 120回 -----\n",
      "------ 7 / 120回 -----\n",
      "------ 8 / 120回 -----\n",
      "------ 9 / 120回 -----\n",
      "------ 10 / 120回 -----\n",
      "------ 11 / 120回 -----\n",
      "------ 12 / 120回 -----\n",
      "------ 13 / 120回 -----\n",
      "------ 14 / 120回 -----\n",
      "------ 15 / 120回 -----\n",
      "------ 16 / 120回 -----\n",
      "------ 17 / 120回 -----\n",
      "------ 18 / 120回 -----\n",
      "------ 19 / 120回 -----\n",
      "------ 20 / 120回 -----\n",
      "------ 21 / 120回 -----\n",
      "------ 22 / 120回 -----\n",
      "------ 23 / 120回 -----\n",
      "------ 24 / 120回 -----\n",
      "------ 25 / 120回 -----\n",
      "------ 26 / 120回 -----\n",
      "------ 27 / 120回 -----\n",
      "------ 28 / 120回 -----\n",
      "------ 29 / 120回 -----\n",
      "------ 30 / 120回 -----\n",
      "------ 31 / 120回 -----\n",
      "------ 32 / 120回 -----\n",
      "------ 33 / 120回 -----\n",
      "------ 34 / 120回 -----\n",
      "------ 35 / 120回 -----\n",
      "------ 36 / 120回 -----\n",
      "------ 37 / 120回 -----\n",
      "------ 38 / 120回 -----\n",
      "------ 39 / 120回 -----\n",
      "------ 40 / 120回 -----\n",
      "------ 41 / 120回 -----\n",
      "------ 42 / 120回 -----\n",
      "------ 43 / 120回 -----\n",
      "------ 44 / 120回 -----\n",
      "------ 45 / 120回 -----\n",
      "------ 46 / 120回 -----\n",
      "------ 47 / 120回 -----\n",
      "------ 48 / 120回 -----\n",
      "------ 49 / 120回 -----\n",
      "------ 50 / 120回 -----\n",
      "------ 51 / 120回 -----\n",
      "------ 52 / 120回 -----\n",
      "------ 53 / 120回 -----\n",
      "------ 54 / 120回 -----\n",
      "------ 55 / 120回 -----\n",
      "------ 56 / 120回 -----\n",
      "------ 57 / 120回 -----\n",
      "------ 58 / 120回 -----\n",
      "------ 59 / 120回 -----\n",
      "------ 60 / 120回 -----\n",
      "------ 61 / 120回 -----\n",
      "------ 62 / 120回 -----\n",
      "------ 63 / 120回 -----\n",
      "------ 64 / 120回 -----\n",
      "------ 65 / 120回 -----\n",
      "------ 66 / 120回 -----\n",
      "------ 67 / 120回 -----\n",
      "------ 68 / 120回 -----\n",
      "------ 69 / 120回 -----\n",
      "------ 70 / 120回 -----\n",
      "------ 71 / 120回 -----\n",
      "------ 72 / 120回 -----\n",
      "------ 73 / 120回 -----\n",
      "------ 74 / 120回 -----\n",
      "------ 75 / 120回 -----\n",
      "------ 76 / 120回 -----\n",
      "------ 77 / 120回 -----\n",
      "------ 78 / 120回 -----\n",
      "------ 79 / 120回 -----\n",
      "------ 80 / 120回 -----\n",
      "------ 81 / 120回 -----\n",
      "------ 82 / 120回 -----\n",
      "------ 83 / 120回 -----\n",
      "------ 84 / 120回 -----\n",
      "------ 85 / 120回 -----\n",
      "------ 86 / 120回 -----\n",
      "------ 87 / 120回 -----\n",
      "------ 88 / 120回 -----\n",
      "------ 89 / 120回 -----\n",
      "------ 90 / 120回 -----\n",
      "------ 91 / 120回 -----\n",
      "------ 92 / 120回 -----\n",
      "------ 93 / 120回 -----\n",
      "------ 94 / 120回 -----\n",
      "------ 95 / 120回 -----\n",
      "------ 96 / 120回 -----\n",
      "------ 97 / 120回 -----\n",
      "------ 98 / 120回 -----\n",
      "------ 99 / 120回 -----\n",
      "------ 100 / 120回 -----\n",
      "------ 101 / 120回 -----\n",
      "------ 102 / 120回 -----\n",
      "------ 103 / 120回 -----\n",
      "------ 104 / 120回 -----\n",
      "------ 105 / 120回 -----\n",
      "------ 106 / 120回 -----\n",
      "------ 107 / 120回 -----\n",
      "------ 108 / 120回 -----\n",
      "------ 109 / 120回 -----\n",
      "------ 110 / 120回 -----\n",
      "------ 111 / 120回 -----\n",
      "------ 112 / 120回 -----\n",
      "------ 113 / 120回 -----\n",
      "------ 114 / 120回 -----\n",
      "------ 115 / 120回 -----\n",
      "------ 116 / 120回 -----\n",
      "------ 117 / 120回 -----\n",
      "------ 118 / 120回 -----\n",
      "------ 119 / 120回 -----\n",
      "[ 1.  0.  1.  0.  1.  1.  0.  1.  0.  1.  0.  1.  1.  1.  1.  1.  1.  1.\n",
      "  0.  1.  0.  1.  1.  1.  1.  1.  1.  0.  1.  0.  1.  1.  1.  1.  1.  0.\n",
      "  1.  0.  0.  0.  0.  1.  1.  1.  0.  0.  1.  0.  0.  0.  0.  1.  1.  1.\n",
      "  1.  1.  0.  0.  1.  1.  0.  1.  1.  1.  1.  0.  1.  1.  1.  1.  0.  1.\n",
      "  1.  1.  0.  1.  0.  1.  1.  1.  1.  1.  1.  1.  1.  1.  1.  0.  0.  1.\n",
      "  1.  1.  1.  0.  0.  1.  1.  0.  0.  0.  1.  1.  1.  1.  1.  0.  0.  1.\n",
      "  1.  1.  0.  1.  1.  1.  0.  0.  1.  0.  1.  1.]\n",
      "\n",
      "\n",
      "   leave-one-out\n",
      "0           66.7\n"
     ]
    }
   ],
   "source": [
    "if __name__ == '__main__':\n",
    "    \n",
    "    # 識別率を算出\n",
    "\n",
    "    print('\\n--------- ' + outputIndex + ' Data ---------')\n",
    "    PS_result = TrainingData(ML_restData, ML_tapData)\n",
    "    print('\\n' + str(PS_result))\n",
    "    \n",
    "    \n",
    "    # インデックス名をつける\n",
    "    result_index = [outputIndex]\n",
    "    PS_result.index = result_index\n",
    "    \n",
    "    # csv書き出し\n",
    "    PATH_RESULT = PATH + 'ACCURACY[loo]_' + outputFile + '_SVM.csv'\n",
    "    PS_result.to_csv(PATH_RESULT, index = True)"
   ]
  },
  {
   "cell_type": "code",
   "execution_count": null,
   "metadata": {
    "collapsed": true
   },
   "outputs": [],
   "source": []
  },
  {
   "cell_type": "code",
   "execution_count": null,
   "metadata": {
    "collapsed": true
   },
   "outputs": [],
   "source": []
  }
 ],
 "metadata": {
  "kernelspec": {
   "display_name": "Python 3",
   "language": "python",
   "name": "python3"
  },
  "language_info": {
   "codemirror_mode": {
    "name": "ipython",
    "version": 3
   },
   "file_extension": ".py",
   "mimetype": "text/x-python",
   "name": "python",
   "nbconvert_exporter": "python",
   "pygments_lexer": "ipython3",
   "version": "3.6.1"
  }
 },
 "nbformat": 4,
 "nbformat_minor": 2
}
