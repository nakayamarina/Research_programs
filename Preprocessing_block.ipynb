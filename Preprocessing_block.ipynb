{
 "cells": [
  {
   "cell_type": "markdown",
   "metadata": {},
   "source": [
    "# 実験（ブロックデザイン）から得られたfMRIデータの前処理\n",
    "----  \n",
    "  \n",
    "引数：Y01.csv, Y02.csv,... があるディレクトリまでのパス  \n",
    "  \n",
    "---  \n",
    "\n",
    "入力：Y01.csv, Y02.csv,...  \n",
    "  \n",
    "---  \n",
    "  \n",
    "出力：  \n",
    "* all_raw.csv : すべてのボクセルのZ-scoreをまとめたもの\n",
    "* rest_raw.csv : Rest時のZ-scoreだけをまとめたもの\n",
    "* tap_raw.csv : Tapping時のZ-scoreだけをまとめたもの\n",
    "  \n",
    "----\n",
    "\n",
    "\n",
    "/VoxelディレクトリのY01.csv, Y02.csv, ... のデータには，指のタッピング運動時に賦活しているとされる上位10ボクセルそれぞれのZ-score（賦活度合いみたいなもの）が記録されている．  \n",
    "\n",
    "実験デザインは以下のようになっており，（撮像方法は12ch, 32ch Head coil, Multi-bandの3種類）\n",
    "  \n",
    "[12ch or 32ch Head coil]  \n",
    "  \n",
    "120 scan（360s）  \n",
    "TR 3s / 1scan  \n",
    "  \n",
    "1-10:\tRest  \n",
    "11-20:  Tapping  \n",
    "21-30:\tRest  \n",
    "31-40:  Tapping  \n",
    "41-50:\tRest  \n",
    "51-60:  Tapping  \n",
    "61-70:\tRest  \n",
    "71-80:  Tapping  \n",
    "81-90:\tRest  \n",
    "91-100:  Tapping  \n",
    "101-110: Rest  \n",
    "111-120:  Tapping  \n",
    "  \n",
    "[32ch Multi-band]  \n",
    "  \n",
    "360 scan（360s）  \n",
    "TR 1s / 1scan  \n",
    "  \n",
    "1-30:\tRest  \n",
    "31-60:  Tapping  \n",
    "61-90:\tRest  \n",
    "91-120:  Tapping  \n",
    "121-150: Rest  \n",
    "151-180: Tapping  \n",
    "181-210: Rest  \n",
    "211-240: Tapping  \n",
    "241-270: Rest  \n",
    "271-300: Tapping  \n",
    "301-330: Rest  \n",
    "331-360: Tapping  \n",
    "  \n",
    " \n",
    "Z-scoreはこの実験デザインに従って記録されている．  \n",
    "ここでは，Rest時とTapping時を分別して順番に並べることで時系列データを得る．  \n",
    "  \n",
    "  "
   ]
  },
  {
   "cell_type": "code",
   "execution_count": 58,
   "metadata": {},
   "outputs": [
    {
     "name": "stdout",
     "output_type": "stream",
     "text": [
      "########## Preprocessing.py program excution ############\n"
     ]
    }
   ],
   "source": [
    "print('########## Preprocessing.py program excution ############')"
   ]
  },
  {
   "cell_type": "code",
   "execution_count": 59,
   "metadata": {
    "collapsed": true
   },
   "outputs": [],
   "source": [
    "import glob\n",
    "import sys\n",
    "import pandas as pd\n",
    "import matplotlib.pyplot as plt"
   ]
  },
  {
   "cell_type": "markdown",
   "metadata": {},
   "source": [
    "コマンドライン引数で/Voxelディレクトリまでのパスを取得"
   ]
  },
  {
   "cell_type": "code",
   "execution_count": 60,
   "metadata": {
    "collapsed": true
   },
   "outputs": [],
   "source": [
    "#args = sys.argv\n",
    "#PATH = args[1]\n",
    "\n",
    "# jupyter notebookのときはここで指定\n",
    "PATH = '../tameshi/20170130ar/12ch/Voxel/'"
   ]
  },
  {
   "cell_type": "markdown",
   "metadata": {},
   "source": [
    "## splitRT関数\n",
    "\n",
    "引数に１ブロックのscan数を受け取り，Rest時とTapping時のデータを分けてcsvファイルで書き出し"
   ]
  },
  {
   "cell_type": "code",
   "execution_count": 61,
   "metadata": {
    "collapsed": true
   },
   "outputs": [],
   "source": [
    "def splitRT(brain, number_scan):\n",
    "\n",
    "    # Rest，Tappingのデータ抽出用maskを作成\n",
    "    # （行数 // number_scan）% 2　で割り切れる（0）ならRest，割り切れない（1）のであればTapping\n",
    "    # （除算は '//' としないと小数まで計算される）\n",
    "\n",
    "    R_mask = (brain.index // number_scan) % 2 == 0\n",
    "    T_mask = (brain.index // number_scan) % 2 == 1\n",
    "    \n",
    "    # mask適用\n",
    "    rest_data = brain[R_mask]\n",
    "    tap_data = brain[T_mask]\n",
    "    \n",
    "    # csv書き出し\n",
    "    REST_PATH = PATH + '../rest_raw.csv'\n",
    "    rest_data.to_csv(REST_PATH, index = False)\n",
    "    TAP_PATH = PATH + '../tap_raw.csv'\n",
    "    tap_data.to_csv(TAP_PATH, index = False)"
   ]
  },
  {
   "cell_type": "markdown",
   "metadata": {},
   "source": [
    "## main関数 "
   ]
  },
  {
   "cell_type": "markdown",
   "metadata": {},
   "source": [
    "* fMRIデータ読み込み\n",
    "* 全ボクセルデータ連結\n",
    "* 全ボクセルデータをcsvで書き出し"
   ]
  },
  {
   "cell_type": "code",
   "execution_count": 62,
   "metadata": {},
   "outputs": [],
   "source": [
    "if __name__ == '__main__':\n",
    "    # /Voxelディレクトリ内のcsvファイルのパスを取得\n",
    "    csv_file = PATH + '*.csv'\n",
    "    files = []\n",
    "    files = glob.glob(csv_file)"
   ]
  },
  {
   "cell_type": "code",
   "execution_count": 63,
   "metadata": {},
   "outputs": [],
   "source": [
    "    # 1つ目のファイルを読み込む\n",
    "\n",
    "    # 列名\n",
    "    row_name = \"Voxel1\"\n",
    "\n",
    "    # 列名をつけてデータフレームとして読み込み（row_nameの後に','をつけることで1列だけ名前をつけることができる）\n",
    "    brain = pd.read_csv(files[0], names=(row_name,))"
   ]
  },
  {
   "cell_type": "code",
   "execution_count": 64,
   "metadata": {},
   "outputs": [],
   "source": [
    "    # 同様に2つ目以降のファイルをデータフレームとして読み込み，1つ目のデータフレームに横連結\n",
    "    for i in range(1, len(files)):\n",
    "\n",
    "        row_name = \"Voxel\" + str(i+1)\n",
    "        data = pd.read_csv(files[i], names=(row_name,))\n",
    "\n",
    "        brain = pd.concat([brain, data], axis = 1)"
   ]
  },
  {
   "cell_type": "code",
   "execution_count": 65,
   "metadata": {
    "collapsed": true
   },
   "outputs": [],
   "source": [
    "    # 全ボクセルデータをcsv書き出し\n",
    "    BRAIN_PATH = PATH + '../all_raw.csv'\n",
    "    brain.to_csv(BRAIN_PATH, index = False)"
   ]
  },
  {
   "cell_type": "code",
   "execution_count": 66,
   "metadata": {
    "collapsed": true
   },
   "outputs": [],
   "source": [
    "    # 12ch or 32ch Head coil の場合\n",
    "    if len(brain) == 120:\n",
    "\n",
    "        splitRT(brain, 10)"
   ]
  },
  {
   "cell_type": "code",
   "execution_count": 67,
   "metadata": {},
   "outputs": [],
   "source": [
    "    # 32ch Milti-band の場合\n",
    "    if len(brain) == 360:\n",
    "        splitRT(brain, 30)"
   ]
  },
  {
   "cell_type": "code",
   "execution_count": null,
   "metadata": {
    "collapsed": true
   },
   "outputs": [],
   "source": []
  }
 ],
 "metadata": {
  "kernelspec": {
   "display_name": "Python 3",
   "language": "python",
   "name": "python3"
  },
  "language_info": {
   "codemirror_mode": {
    "name": "ipython",
    "version": 3
   },
   "file_extension": ".py",
   "mimetype": "text/x-python",
   "name": "python",
   "nbconvert_exporter": "python",
   "pygments_lexer": "ipython3",
   "version": "3.6.1"
  }
 },
 "nbformat": 4,
 "nbformat_minor": 2
}
