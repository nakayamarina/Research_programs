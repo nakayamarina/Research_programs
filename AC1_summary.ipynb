{
 "cells": [
  {
   "cell_type": "markdown",
   "metadata": {},
   "source": [
    "# 識別率をまとめる"
   ]
  },
  {
   "cell_type": "markdown",
   "metadata": {},
   "source": [
    "指定したcsvファイルに記録されている識別率をまとめる  \n",
    "\n",
    "---  \n",
    "\n",
    "引数：各被験者のRawDataディレクトリまでのパス  \n",
    "  \n",
    "---\n",
    "  \n",
    "入力：まとめたい識別率（従来，RAW，TDA（提案手法））が記録されたcsvファイルまでのパス  \n",
    "  \n",
    "---  \n",
    "  \n",
    "出力：Result[日付]ディレクトリ  \n",
    "* 各被験者，各ヘッドコイルの従来手法や提案手法の識別率をまとめたcsvファイル\n",
    "* 全被験者の各ヘッドコイルの従来手法や提案手法の平均識別率を算出したcsvファイル  \n",
    "  \n",
    "※日付，PM，ML書き換え，input_csv2，3つ目の機械学習と手法名書き換え"
   ]
  },
  {
   "cell_type": "code",
   "execution_count": 272,
   "metadata": {
    "collapsed": true
   },
   "outputs": [],
   "source": [
    "import numpy as np\n",
    "import pandas as pd\n",
    "import sys\n",
    "import os\n",
    "from statistics import mean, median,variance,stdev\n",
    "\n",
    "# .pyで実行するときは%matplotlib inlineをコメントアウト！！！！\n",
    "import matplotlib.pyplot as plt\n",
    "%matplotlib inline"
   ]
  },
  {
   "cell_type": "code",
   "execution_count": 273,
   "metadata": {
    "collapsed": true
   },
   "outputs": [],
   "source": [
    "#args = sys.argv\n",
    "#PATH = args[1]\n",
    "\n",
    "\n",
    "# jupyter notebookのときはここで指定\n",
    "PATH = '../Data_tappingState-2fe_Moter/analysis_by_programs/'\n"
   ]
  },
  {
   "cell_type": "code",
   "execution_count": 274,
   "metadata": {
    "collapsed": true
   },
   "outputs": [],
   "source": [
    "#DIR_sub = ['20170130ar/', '20170130hm/', '20170130ms/', '20170130ns/', '20170202dt/', '20170202tsk/']\n",
    "DIR_sub = ['20171020rn/']\n",
    "DIR_ch = ['12ch/', '32ch/', 'mb/']\n",
    "DIR_data = 'RawData/'\n",
    "\n",
    "# ------ 書き換え --------- #\n",
    "\n",
    "date = '0925'\n",
    "\n",
    "CV = 'ACCURACY[loo]'\n",
    "\n",
    "PM = ['01dim100', '01dim300', '012dim100', '012dim300']\n",
    "ML = ['SVM', '1dCNN']\n",
    "\n",
    "\n",
    "# ------------------------ #\n",
    "\n",
    "# 出力csvファイルの行明\n",
    "coil_index = ['12ch head coil(12ch)', '32ch head coil(32ch)', '32ch head coil multi-band(32chMB)']\n",
    "\n",
    "# Result[日付]のディレクトリ名・パス\n",
    "DIR_result = PATH + '../Result' + str(date)\n",
    "PATH_result = DIR_result + '/'\n",
    "\n",
    "# すでに存在する場合は何もせず，存在していない場合はディレクトリ作成\n",
    "if not os.path.exists(DIR_result):\n",
    "    os.mkdir(DIR_result) \n"
   ]
  },
  {
   "cell_type": "markdown",
   "metadata": {},
   "source": [
    "## AcSumarry関数  \n",
    "識別率を表としてまとめてcsvファイルに出力"
   ]
  },
  {
   "cell_type": "code",
   "execution_count": 275,
   "metadata": {
    "collapsed": true
   },
   "outputs": [],
   "source": [
    "def AcSumarry(ML, PM):\n",
    "    \n",
    "    # 一つ目は従来手法なので機械学習はSVMのまま\n",
    "    # input_csv = ['ACCURACY[loo]_RAWpt_SVM.csv', 'ACCURACY[loo]_RAWts_' + ML + '.csv', 'ACCURACY[loo]_TDAvecAutocor' + PM + '_' + ML + '.csv']\n",
    "    input_csv = ['ACCURACY[k_cv]_SPM_SVM.csv', 'ACCURACY[loo]_RAWts_' + ML + '.csv', 'ACCURACY[loo]_TDAvecAutocor' + PM + '_' + ML + '.csv']\n",
    "\n",
    "\n",
    "    # 出力csvファイルの列名\n",
    "    method_col = ['SPM', 'RAW data', 'TDA Data(' + PM + ')'] \n",
    "\n",
    "\n",
    "    ############### 各被験者，各ヘッドコイルの従来手法や提案手法の識別率をまとめる\n",
    "\n",
    "    all_ac = pd.DataFrame(index = [], columns = method_col)\n",
    "\n",
    "    for s in range(len(DIR_sub)):\n",
    "\n",
    "        ac_sub = []\n",
    "\n",
    "        for c in range(len(DIR_ch)):\n",
    "\n",
    "            ac_ch = []\n",
    "\n",
    "            for i in range(len(input_csv)):\n",
    "\n",
    "                # 各csvファイルへのパス作成，読み込み\n",
    "                PATH_ac = PATH + DIR_sub[s] + DIR_ch[c] + DIR_data + input_csv[i]\n",
    "                ac_method = pd.read_csv(PATH_ac, index_col = 0, header = 0)\n",
    "\n",
    "                ac_ch.append(ac_method.iloc[0,0])\n",
    "\n",
    "            ac_sub.append(ac_ch)\n",
    "\n",
    "\n",
    "        # データフレームのac_allに結合できるようデータフレーム化，同様の列名をつける\n",
    "        ac_sub_df = pd.DataFrame(ac_sub)\n",
    "        ac_sub_df.columns = method_col\n",
    "        ac_sub_df.index = coil_index\n",
    "\n",
    "        # ac_allに結合\n",
    "        all_ac = pd.concat([all_ac, ac_sub_df])\n",
    "\n",
    "\n",
    "    # csv書き出し\n",
    "    PATH_acAll = PATH + '../Result' + date + '/' + CV + '_' + PM + '_' + ML + '_all.csv'\n",
    "    all_ac.to_csv(PATH_acAll)\n",
    "\n",
    "\n",
    "\n",
    "\n",
    "    ############## 全被験者の各ヘッドコイルの従来手法や提案手法の平均識別率を算出したcsvファイル\n",
    "\n",
    "\n",
    "    # 被験者が一人しかいない場合は先ほどのデータを平均データとして書き出し\n",
    "    if (len(DIR_sub) == 1):\n",
    "\n",
    "        all_mean = all_ac\n",
    "\n",
    "        # csv書き出し\n",
    "        PATH_acMean = PATH + '../Result' + date + '/' + CV + '_' + PM + '_' + ML + '_mean.csv'\n",
    "        all_mean.to_csv(PATH_acMean)\n",
    "\n",
    "    else:\n",
    "\n",
    "        all_mean = pd.DataFrame(index = [], columns = method_col)\n",
    "\n",
    "        for c in range(len(DIR_ch)):\n",
    "\n",
    "            mean_method = []\n",
    "\n",
    "            for i in range(len(input_csv)):\n",
    "\n",
    "                mean_method.append(mean(all_ac.loc[coil_index[c], method_col[i]]))\n",
    "\n",
    "            # データフレームのac_allに結合できるようデータフレーム化（転置しておく），同様の列名をつける\n",
    "            mean_method_df = pd.DataFrame(mean_method).T\n",
    "            mean_method_df.columns = method_col\n",
    "\n",
    "            # all_meanに結合\n",
    "            all_mean = pd.concat([all_mean, mean_method_df])\n",
    "\n",
    "        # 行明をつける\n",
    "        all_mean.index = coil_index\n",
    "\n",
    "        # csv書き出し\n",
    "        PATH_acMean = PATH + '../Result' + date + '/' + CV + '_' + PM + '_' + ML + '_mean.csv'\n",
    "        all_mean.to_csv(PATH_acMean)\n",
    "\n",
    "    return all_mean\n"
   ]
  },
  {
   "cell_type": "markdown",
   "metadata": {},
   "source": [
    "## AcBar関数"
   ]
  },
  {
   "cell_type": "markdown",
   "metadata": {},
   "source": [
    "棒グラフにして出力"
   ]
  },
  {
   "cell_type": "code",
   "execution_count": 276,
   "metadata": {
    "collapsed": true
   },
   "outputs": [],
   "source": [
    "def AcBar(acTab, ML, PM):\n",
    "    \n",
    "    plt.figure()\n",
    "    \n",
    "    acTab.plot.bar(color = ['silver', 'lightblue', 'firebrick'],\n",
    "               width = 0.8, figsize = (16,9), rot = 0, fontsize = 15, legend='reverse',\n",
    "               yticks = [10,20,30,40,50,60,70,80,90,100])\n",
    "    \n",
    "    PATH_graph = PATH + '../Result' + date + '/' + CV + '_' + PM + '_' + ML + '_mean.png'\n",
    "    plt.savefig(PATH_graph)\n",
    "    \n",
    "    plt.close('all')"
   ]
  },
  {
   "cell_type": "markdown",
   "metadata": {},
   "source": [
    "## Main関数"
   ]
  },
  {
   "cell_type": "code",
   "execution_count": 277,
   "metadata": {},
   "outputs": [],
   "source": [
    "if __name__ == '__main__':\n",
    "\n",
    "    for a in range(len(ML)):\n",
    "        \n",
    "        for b in range(len(PM)):\n",
    "            \n",
    "            acTab = AcSumarry(ML[a], PM[b])\n",
    "    \n",
    "            # グラフ出力する場合\n",
    "            AcBar(acTab, ML[a], PM[b])"
   ]
  },
  {
   "cell_type": "code",
   "execution_count": null,
   "metadata": {
    "collapsed": true
   },
   "outputs": [],
   "source": []
  },
  {
   "cell_type": "code",
   "execution_count": null,
   "metadata": {
    "collapsed": true
   },
   "outputs": [],
   "source": []
  },
  {
   "cell_type": "code",
   "execution_count": null,
   "metadata": {
    "collapsed": true
   },
   "outputs": [],
   "source": []
  }
 ],
 "metadata": {
  "kernelspec": {
   "display_name": "Python 3",
   "language": "python",
   "name": "python3"
  },
  "language_info": {
   "codemirror_mode": {
    "name": "ipython",
    "version": 3
   },
   "file_extension": ".py",
   "mimetype": "text/x-python",
   "name": "python",
   "nbconvert_exporter": "python",
   "pygments_lexer": "ipython3",
   "version": "3.6.1"
  }
 },
 "nbformat": 4,
 "nbformat_minor": 2
}
