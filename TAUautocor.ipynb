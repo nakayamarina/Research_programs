{
 "cells": [
  {
   "cell_type": "markdown",
   "metadata": {},
   "source": [
    "# 各ボクセルごとの時間遅れτを求める\n",
    "---  \n",
    "  \n",
    "引数：raw_tap.csv/raw_rest.csvがあるディレクトリまでのパス  \n",
    "  \n",
    "---  \n",
    "  \n",
    "入力：raw_tap.csv/raw_rest.csv  \n",
    "  \n",
    "---\n",
    "   \n",
    "出力：TAUautocor.csv　rest, tappingの各ボクセルの時間遅れτをまとめたもの  \n",
    "  \n",
    "---  \n",
    "  \n",
    "Preprocessing_block.pyでまとめた，\n",
    "\n",
    "* tapping時の複数ボクセル（tap_raw.csv）\n",
    "* rest時の複数ボクセル（rest_raw.csv）  \n",
    "  \n",
    "の時系列特性を得るために3次元空間に写像する．  \n",
    "時系列データにおいて，ある時刻tの値をx軸，t+τ（時間遅れ）の値をy軸，t+2*τの値をz軸に写像すると，  \n",
    "特徴的な軌道を描くとされている（カオス理論）．  \n",
    "時間遅れτの求め方はいくつかあるが，このプログラムでは時系列データ（各ボクセルのデータ）の自己相関関数が最初に極小値をとる値をτとする．  "
   ]
  },
  {
   "cell_type": "code",
   "execution_count": 174,
   "metadata": {},
   "outputs": [
    {
     "name": "stdout",
     "output_type": "stream",
     "text": [
      "########## TAUautocor.py program excution ############\n"
     ]
    }
   ],
   "source": [
    "print('########## TAUautocor.py program excution ############')"
   ]
  },
  {
   "cell_type": "code",
   "execution_count": 175,
   "metadata": {
    "collapsed": true
   },
   "outputs": [],
   "source": [
    "import numpy as np\n",
    "from scipy import signal\n",
    "import sys\n",
    "import pandas as pd"
   ]
  },
  {
   "cell_type": "markdown",
   "metadata": {},
   "source": [
    "コマンドライン引数でraw_tap.csv/raw_rest.csvがあるディレクトリまでのパスを取得"
   ]
  },
  {
   "cell_type": "code",
   "execution_count": 179,
   "metadata": {
    "collapsed": true
   },
   "outputs": [],
   "source": [
    "#args = sys.argv\n",
    "#PATH = args[1]\n",
    "\n",
    "# jupyter notebookのときはここで指定\n",
    "PATH = '../tameshi/20170130ar/12ch/'"
   ]
  },
  {
   "cell_type": "markdown",
   "metadata": {},
   "source": [
    "## autocor関数\n",
    "引数としてmain関数で読み込んだデータをdataで受け取る．  \n",
    "Rest, Tappingの各ボクセルごとの自己相関関数が最初に極小値をとる値を調べる --> csvファイルで書き出し"
   ]
  },
  {
   "cell_type": "code",
   "execution_count": 180,
   "metadata": {
    "collapsed": true
   },
   "outputs": [],
   "source": [
    "def autocor(data):\n",
    "    \n",
    "    # 求めた値を入れる\n",
    "    TAUs = []\n",
    "    \n",
    "    # ボクセル（列）の数だけ繰り返す\n",
    "    for i in range(len(data.columns)):\n",
    "        \n",
    "        # i番目のボクセルデータ抽出\n",
    "        voxel = data.iloc[:, i]\n",
    "        \n",
    "        # 自己相関関数\n",
    "        x = np.correlate(voxel, voxel, mode = 'full')\n",
    "        \n",
    "        # 極小値のインデックス一覧\n",
    "        first_min = signal.argrelmin(x)\n",
    "        \n",
    "        # 「最初に極小値をとるときの値」なので最初の値をTAUsに追加\n",
    "        TAUs.append(first_min[0][0])\n",
    "        \n",
    "        print(i)\n",
    "    \n",
    "    return TAUs"
   ]
  },
  {
   "cell_type": "markdown",
   "metadata": {},
   "source": [
    "## main関数\n",
    "\n",
    "* tap_raw.csv/rest_raw.csv読み込み\n",
    "* autcor関数呼び出し"
   ]
  },
  {
   "cell_type": "code",
   "execution_count": 181,
   "metadata": {},
   "outputs": [],
   "source": [
    "if __name__ == '__main__':\n",
    "    \n",
    "    # 読み込みたいファイルのパス\n",
    "    PATH_rest = PATH + 'raw_rest.csv'\n",
    "    PATH_tap = PATH + 'raw_tap.csv'\n",
    "    \n",
    "    # csvファイル読み込み\n",
    "    rest = pd.read_csv(PATH_rest, header = 0)\n",
    "    tap = pd.read_csv(PATH_tap, header = 0)\n",
    "    "
   ]
  },
  {
   "cell_type": "code",
   "execution_count": 182,
   "metadata": {},
   "outputs": [
    {
     "name": "stdout",
     "output_type": "stream",
     "text": [
      "0\n",
      "1\n",
      "2\n",
      "3\n",
      "4\n",
      "5\n",
      "6\n",
      "7\n",
      "8\n",
      "9\n"
     ]
    }
   ],
   "source": [
    "    tau_rest = autocor(rest)"
   ]
  },
  {
   "cell_type": "code",
   "execution_count": 183,
   "metadata": {},
   "outputs": [
    {
     "name": "stdout",
     "output_type": "stream",
     "text": [
      "0\n",
      "1\n",
      "2\n",
      "3\n",
      "4\n",
      "5\n",
      "6\n",
      "7\n",
      "8\n",
      "9\n"
     ]
    }
   ],
   "source": [
    "    tau_tap = autocor(tap)"
   ]
  },
  {
   "cell_type": "code",
   "execution_count": 184,
   "metadata": {},
   "outputs": [],
   "source": [
    "    # RestとTappingの各ボクセルごとの時間遅れTAUを整形\n",
    "    TAUs = pd.DataFrame({'TAU_Rest':tau_rest, 'TAU_Tap':tau_tap})"
   ]
  },
  {
   "cell_type": "code",
   "execution_count": 185,
   "metadata": {},
   "outputs": [],
   "source": [
    "    # csv書き出し\n",
    "    PATH_TAU = PATH + 'TAUautocor.csv'\n",
    "    TAUs.to_csv(PATH_TAU, index = False)"
   ]
  },
  {
   "cell_type": "code",
   "execution_count": null,
   "metadata": {
    "collapsed": true
   },
   "outputs": [],
   "source": []
  }
 ],
 "metadata": {
  "kernelspec": {
   "display_name": "Python 3",
   "language": "python",
   "name": "python3"
  },
  "language_info": {
   "codemirror_mode": {
    "name": "ipython",
    "version": 3
   },
   "file_extension": ".py",
   "mimetype": "text/x-python",
   "name": "python",
   "nbconvert_exporter": "python",
   "pygments_lexer": "ipython3",
   "version": "3.6.1"
  }
 },
 "nbformat": 4,
 "nbformat_minor": 2
}
