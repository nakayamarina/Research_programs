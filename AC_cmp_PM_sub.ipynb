{
 "cells": [
  {
   "cell_type": "markdown",
   "metadata": {},
   "source": [
    "# 識別率をまとめる"
   ]
  },
  {
   "cell_type": "markdown",
   "metadata": {},
   "source": [
    "指定したcsvファイルに記録されている識別率をまとめる  \n",
    "\n",
    "---  \n",
    "\n",
    "引数：Result[日付]ディレクトリまでパス\n",
    "  \n",
    "---\n",
    "  \n",
    "入力：まとめたい識別率が記録されたcsvファイルまでのパス  \n",
    "  \n",
    "---  \n",
    "  \n",
    "出力：被験者ごとに識別率をまとめたcsvファイル  \n",
    "  \n",
    "---  \n",
    "全手法を比較（SPM, RAW data, TDA data 各パラメータのやつ  \n",
    "被験者ごとに出力したい場合"
   ]
  },
  {
   "cell_type": "code",
   "execution_count": 2,
   "metadata": {
    "collapsed": true
   },
   "outputs": [],
   "source": [
    "import numpy as np\n",
    "import pandas as pd\n",
    "import sys\n",
    "import os\n",
    "\n",
    "# .pyで実行するときは%matplotlib inlineをコメントアウト！！！！\n",
    "import matplotlib.pyplot as plt\n",
    "%matplotlib inline"
   ]
  },
  {
   "cell_type": "code",
   "execution_count": 3,
   "metadata": {
    "collapsed": true
   },
   "outputs": [],
   "source": [
    "#args = sys.argv\n",
    "#PATH = args[1]\n"
   ]
  },
  {
   "cell_type": "code",
   "execution_count": 8,
   "metadata": {
    "collapsed": true
   },
   "outputs": [],
   "source": [
    "# jupyter notebookのときはここで指定\n",
    "# 日付注意！！！！！！！！！！\n",
    "PATH_result = '../TappingData_block_new/Result0919/'\n",
    "\n",
    "files = os.listdir(PATH_result)\n",
    "\n",
    "ML = 'SVM'\n",
    "strcol = ML + '_all.csv'\n",
    "csvName = PATH_result + 'ACCURACY[loo]_cmp_sub_' + ML + '.csv'"
   ]
  },
  {
   "cell_type": "code",
   "execution_count": 9,
   "metadata": {
    "collapsed": true
   },
   "outputs": [],
   "source": [
    "counter = 0\n",
    "\n",
    "for i in range(len(files)):\n",
    "    \n",
    "    if (strcol in files[i]):\n",
    "        \n",
    "        if counter == 0 :\n",
    "            \n",
    "            PATH = PATH_result + files[i]\n",
    "            cmp_ac = pd.read_csv(PATH, index_col = 0, header = 0)\n",
    "            \n",
    "            counter  = counter + 1\n",
    "            \n",
    "        else:\n",
    "            \n",
    "            PATH = PATH_result + files[i]\n",
    "            PM_ac = pd.read_csv(PATH, index_col = 0, header = 0)\n",
    "            \n",
    "            PM_ac = pd.DataFrame(PM_ac.iloc[:, 2])\n",
    "            \n",
    "            cmp_ac = pd.concat([cmp_ac, PM_ac], axis = 1)"
   ]
  },
  {
   "cell_type": "code",
   "execution_count": 10,
   "metadata": {
    "collapsed": true
   },
   "outputs": [],
   "source": [
    "for i in range(int(len(cmp_ac.index)/3)):\n",
    "    \n",
    "    cmp_ac_sub = cmp_ac.iloc[(i*3):(i*3+3), 0:len(cmp_ac)]\n",
    "\n",
    "    plt.figure()\n",
    "\n",
    "    cmp_ac_sub.plot.bar(color =  ['silver', 'lightblue', 'darkseagreen', 'moccasin', 'olive', 'crimson', 'slategray'],\n",
    "                   width = 0.8, figsize = (16,9), rot = 0, fontsize = 15, legend='reverse',\n",
    "                   yticks = [10,20,30,40,50,60,70,80,90,100])\n",
    "\n",
    "    pngName = PATH_result + 'ACCURACY[loo]_cmp_sub' + str(i+1) + '_' + ML + '.png'\n",
    "    plt.savefig(pngName)\n",
    "\n",
    "    plt.close('all')"
   ]
  },
  {
   "cell_type": "code",
   "execution_count": null,
   "metadata": {
    "collapsed": true
   },
   "outputs": [],
   "source": []
  }
 ],
 "metadata": {
  "kernelspec": {
   "display_name": "Python 3",
   "language": "python",
   "name": "python3"
  },
  "language_info": {
   "codemirror_mode": {
    "name": "ipython",
    "version": 3
   },
   "file_extension": ".py",
   "mimetype": "text/x-python",
   "name": "python",
   "nbconvert_exporter": "python",
   "pygments_lexer": "ipython3",
   "version": "3.6.1"
  }
 },
 "nbformat": 4,
 "nbformat_minor": 2
}
