{
 "cells": [
  {
   "cell_type": "markdown",
   "metadata": {},
   "source": [
    "# 各ボクセルごとの時間遅れτを求める\n",
    "### 自己相関関数が最初に0となる時刻\n",
    "---  \n",
    "  \n",
    "引数：raw_tap.csv/raw_rest.csvがあるディレクトリまでのパス  \n",
    "  \n",
    "---  \n",
    "  \n",
    "入力：raw_tap.csv/raw_rest.csv  \n",
    "  \n",
    "---\n",
    "   \n",
    "出力：TAUautocor_zero.csv　rest, tappingの各ボクセルの時間遅れτをまとめたもの  \n",
    "  \n",
    "---  \n",
    "  \n",
    "Preprocessing_block.pyでまとめた，\n",
    "\n",
    "* tapping時の複数ボクセル（tap_raw.csv）\n",
    "* rest時の複数ボクセル（rest_raw.csv）  \n",
    "  \n",
    "の時系列特性を得るために3次元空間に写像する．  \n",
    "時系列データにおいて，ある時刻tの値をx軸，t+τ（時間遅れ）の値をy軸，t+2*τの値をz軸に写像すると，  \n",
    "特徴的な軌道を描くとされている（カオス理論）．  \n",
    "時間遅れτの求め方はいくつかあるが，このプログラムでは時系列データ（各ボクセルのデータ）の自己相関関数が最初に0となる時刻をτとする．  "
   ]
  },
  {
   "cell_type": "code",
   "execution_count": 2,
   "metadata": {},
   "outputs": [
    {
     "name": "stdout",
     "output_type": "stream",
     "text": [
      "########## TAUautocor.py program excution ############\n"
     ]
    }
   ],
   "source": [
    "print('########## TAUautocor.py program excution ############')"
   ]
  },
  {
   "cell_type": "code",
   "execution_count": 3,
   "metadata": {
    "collapsed": true
   },
   "outputs": [],
   "source": [
    "import numpy as np\n",
    "from scipy import signal\n",
    "import sys\n",
    "import pandas as pd"
   ]
  },
  {
   "cell_type": "markdown",
   "metadata": {},
   "source": [
    "コマンドライン引数でraw_tap.csv/raw_rest.csvがあるディレクトリまでのパスを取得"
   ]
  },
  {
   "cell_type": "code",
   "execution_count": 65,
   "metadata": {
    "collapsed": true
   },
   "outputs": [],
   "source": [
    "#args = sys.argv\n",
    "#PATH = args[1]\n",
    "\n",
    "# jupyter notebookのときはここで指定\n",
    "PATH = '../Data_block/analysis_by_programs/20170130ar/12ch/MAL7/'"
   ]
  },
  {
   "cell_type": "markdown",
   "metadata": {},
   "source": [
    "## autocor関数\n",
    "引数としてmain関数で読み込んだデータをdataで受け取る．  \n",
    "Rest, Tappingの各ボクセルごとの自己相関関数が最初に0となる時刻を調べる --> csvファイルで書き出し"
   ]
  },
  {
   "cell_type": "code",
   "execution_count": 75,
   "metadata": {
    "collapsed": true
   },
   "outputs": [],
   "source": [
    "def autocor(data):\n",
    "    \n",
    "    # 求めた値を入れる\n",
    "    TAUs = []\n",
    "    \n",
    "    # ボクセル（列）の数だけ繰り返す\n",
    "\n",
    "    for i in range(len(data.columns)):\n",
    "\n",
    "        # i番目のボクセルデータ抽出\n",
    "        voxel = data.iloc[:, i]\n",
    "\n",
    "        # 自己相関関数\n",
    "        x = np.correlate(voxel, voxel, mode = 'full')\n",
    "\n",
    "        # 自己相関関数の値が 正->負 or 負->正 になるときの時刻+1をtauに取得（+1しなければ0の場合に困る）\n",
    "        \n",
    "        # 初期化\n",
    "        tau = 0\n",
    "        \n",
    "        for k in range(len(x)-1):\n",
    "\n",
    "            if (x[k] > 0) and (x[k+1] < 0):\n",
    "\n",
    "                tau = k+1\n",
    "                break\n",
    "\n",
    "            elif (x[k] < 0) and (x[k+1] > 0):\n",
    "\n",
    "                tau = k+1\n",
    "                break\n",
    "\n",
    "                \n",
    "            # 正->負 or 負->正 になることがない場合は，0に近い値（最小）になる時刻を取る\n",
    "            if tau == 0:\n",
    "                \n",
    "                tau = np.argmin(x)\n",
    "                \n",
    "                # 0に近い値になる時刻が0の場合は，2番目に近い値になる時刻を取る\n",
    "                # 自己相関関数の結果は同じ値が最初と最後の方に左右対称になる感じで2つ入っている\n",
    "                # なので最も近い値になる時刻一覧の3番目（インデックスは2）をとる\n",
    "                if tau == 0:\n",
    "                    tau = x.argsort()[2]\n",
    "                \n",
    "        TAUs.append(tau)\n",
    "            \n",
    "        print(i)\n",
    "        \n",
    "    \n",
    "    return TAUs"
   ]
  },
  {
   "cell_type": "markdown",
   "metadata": {},
   "source": [
    "## main関数\n",
    "\n",
    "* tap_raw.csv/rest_raw.csv読み込み\n",
    "* autcor関数呼び出し"
   ]
  },
  {
   "cell_type": "code",
   "execution_count": 76,
   "metadata": {
    "collapsed": true
   },
   "outputs": [],
   "source": [
    "if __name__ == '__main__':\n",
    "    \n",
    "    # 読み込みたいファイルのパス\n",
    "    PATH_rest = PATH + 'raw_rest.csv'\n",
    "    PATH_tap = PATH + 'raw_tap.csv'\n",
    "    \n",
    "    # csvファイル読み込み\n",
    "    rest = pd.read_csv(PATH_rest, header = 0)\n",
    "    tap = pd.read_csv(PATH_tap, header = 0)\n",
    "    "
   ]
  },
  {
   "cell_type": "code",
   "execution_count": 77,
   "metadata": {},
   "outputs": [
    {
     "name": "stdout",
     "output_type": "stream",
     "text": [
      "0\n",
      "1\n",
      "2\n",
      "3\n",
      "4\n",
      "5\n",
      "6\n",
      "7\n",
      "8\n",
      "9\n"
     ]
    }
   ],
   "source": [
    "    tau_rest = autocor(rest)"
   ]
  },
  {
   "cell_type": "code",
   "execution_count": 78,
   "metadata": {},
   "outputs": [
    {
     "name": "stdout",
     "output_type": "stream",
     "text": [
      "0\n",
      "1\n",
      "2\n",
      "3\n",
      "4\n",
      "5\n",
      "6\n",
      "7\n",
      "8\n",
      "9\n"
     ]
    }
   ],
   "source": [
    "    tau_tap = autocor(tap)"
   ]
  },
  {
   "cell_type": "code",
   "execution_count": 79,
   "metadata": {
    "collapsed": true
   },
   "outputs": [],
   "source": [
    "    # RestとTappingの各ボクセルごとの時間遅れTAUを整形\n",
    "    TAUs = pd.DataFrame({'TAU_Rest':tau_rest, 'TAU_Tap':tau_tap})"
   ]
  },
  {
   "cell_type": "code",
   "execution_count": 215,
   "metadata": {
    "collapsed": true
   },
   "outputs": [],
   "source": [
    "    # csv書き出し\n",
    "    PATH_TAU = PATH + 'TAUautocor_zero.csv'\n",
    "    TAUs.to_csv(PATH_TAU, index = False)"
   ]
  },
  {
   "cell_type": "code",
   "execution_count": 80,
   "metadata": {},
   "outputs": [
    {
     "data": {
      "text/html": [
       "<div>\n",
       "<style>\n",
       "    .dataframe thead tr:only-child th {\n",
       "        text-align: right;\n",
       "    }\n",
       "\n",
       "    .dataframe thead th {\n",
       "        text-align: left;\n",
       "    }\n",
       "\n",
       "    .dataframe tbody tr th {\n",
       "        vertical-align: top;\n",
       "    }\n",
       "</style>\n",
       "<table border=\"1\" class=\"dataframe\">\n",
       "  <thead>\n",
       "    <tr style=\"text-align: right;\">\n",
       "      <th></th>\n",
       "      <th>TAU_Rest</th>\n",
       "      <th>TAU_Tap</th>\n",
       "    </tr>\n",
       "  </thead>\n",
       "  <tbody>\n",
       "    <tr>\n",
       "      <th>0</th>\n",
       "      <td>0</td>\n",
       "      <td>9</td>\n",
       "    </tr>\n",
       "    <tr>\n",
       "      <th>1</th>\n",
       "      <td>8</td>\n",
       "      <td>0</td>\n",
       "    </tr>\n",
       "    <tr>\n",
       "      <th>2</th>\n",
       "      <td>6</td>\n",
       "      <td>7</td>\n",
       "    </tr>\n",
       "    <tr>\n",
       "      <th>3</th>\n",
       "      <td>0</td>\n",
       "      <td>1</td>\n",
       "    </tr>\n",
       "    <tr>\n",
       "      <th>4</th>\n",
       "      <td>3</td>\n",
       "      <td>6</td>\n",
       "    </tr>\n",
       "    <tr>\n",
       "      <th>5</th>\n",
       "      <td>1</td>\n",
       "      <td>5</td>\n",
       "    </tr>\n",
       "    <tr>\n",
       "      <th>6</th>\n",
       "      <td>1</td>\n",
       "      <td>1</td>\n",
       "    </tr>\n",
       "    <tr>\n",
       "      <th>7</th>\n",
       "      <td>18</td>\n",
       "      <td>5</td>\n",
       "    </tr>\n",
       "    <tr>\n",
       "      <th>8</th>\n",
       "      <td>8</td>\n",
       "      <td>19</td>\n",
       "    </tr>\n",
       "    <tr>\n",
       "      <th>9</th>\n",
       "      <td>18</td>\n",
       "      <td>1</td>\n",
       "    </tr>\n",
       "  </tbody>\n",
       "</table>\n",
       "</div>"
      ],
      "text/plain": [
       "   TAU_Rest  TAU_Tap\n",
       "0         0        9\n",
       "1         8        0\n",
       "2         6        7\n",
       "3         0        1\n",
       "4         3        6\n",
       "5         1        5\n",
       "6         1        1\n",
       "7        18        5\n",
       "8         8       19\n",
       "9        18        1"
      ]
     },
     "execution_count": 80,
     "metadata": {},
     "output_type": "execute_result"
    }
   ],
   "source": [
    "TAUs"
   ]
  },
  {
   "cell_type": "code",
   "execution_count": null,
   "metadata": {
    "collapsed": true
   },
   "outputs": [],
   "source": []
  }
 ],
 "metadata": {
  "kernelspec": {
   "display_name": "Python 3",
   "language": "python",
   "name": "python3"
  },
  "language_info": {
   "codemirror_mode": {
    "name": "ipython",
    "version": 3
   },
   "file_extension": ".py",
   "mimetype": "text/x-python",
   "name": "python",
   "nbconvert_exporter": "python",
   "pygments_lexer": "ipython3",
   "version": "3.6.1"
  }
 },
 "nbformat": 4,
 "nbformat_minor": 2
}
