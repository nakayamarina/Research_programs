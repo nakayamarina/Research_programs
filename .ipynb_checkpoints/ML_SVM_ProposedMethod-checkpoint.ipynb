{
 "cells": [
  {
   "cell_type": "markdown",
   "metadata": {},
   "source": [
    "# SVMによる学習と識別性能評価（提案手法）"
   ]
  },
  {
   "cell_type": "markdown",
   "metadata": {},
   "source": [
    "---\n",
    "  \n",
    "引数：提案手法でベクトル化したcsvファイルがあるディレクトリまでのパス  \n",
    "  \n",
    "---\n",
    "  \n",
    "入力： 提案手法でベクトル化したcsvファイル  \n",
    "\n",
    "---\n",
    "  \n",
    "出力：ACCURACY[loo]_(ファイル名)_SVM.csv　識別性能評価\n",
    "\n",
    "---  \n",
    "\n",
    "提案手法でベクトル化したデータをSVMを用いて学習，交差検証法（leave-one-out交差検証）を用いて識別性能評価を行う．\n"
   ]
  },
  {
   "cell_type": "code",
   "execution_count": 1,
   "metadata": {},
   "outputs": [
    {
     "name": "stderr",
     "output_type": "stream",
     "text": [
      "/Users/nakayamarina/.pyenv/versions/anaconda3-4.4.0/lib/python3.6/site-packages/sklearn/cross_validation.py:41: DeprecationWarning: This module was deprecated in version 0.18 in favor of the model_selection module into which all the refactored classes and functions are moved. Also note that the interface of the new CV iterators are different from that of this module. This module will be removed in 0.20.\n",
      "  \"This module will be removed in 0.20.\", DeprecationWarning)\n"
     ]
    }
   ],
   "source": [
    "import numpy as np\n",
    "import pandas as pd\n",
    "import sys\n",
    "\n",
    "from sklearn import cross_validation\n",
    "from sklearn import svm\n",
    "from sklearn.model_selection import train_test_split"
   ]
  },
  {
   "cell_type": "markdown",
   "metadata": {},
   "source": [
    "コマンドライン引数で提案手法でベクトル化したcsvファイルがあるディレクトリまでのパスを取得"
   ]
  },
  {
   "cell_type": "code",
   "execution_count": 11,
   "metadata": {
    "collapsed": true
   },
   "outputs": [],
   "source": [
    "#args = sys.argv\n",
    "#PATH = args[1]\n",
    "\n",
    "# jupyter notebookのときはここで指定\n",
    "PATH = '../Data_tappingState-2fe_Moter/analysis_by_programs/20171020rn/12ch/RawData/'\n",
    "\n",
    "# 機械学習するデータ（csvファイルのパラメータ名前）\n",
    "PM_kizami = ['100', '300']\n",
    "PM_hole = ['01dim', '012dim']\n"
   ]
  },
  {
   "cell_type": "markdown",
   "metadata": {},
   "source": [
    "## SVM_LOO関数"
   ]
  },
  {
   "cell_type": "markdown",
   "metadata": {},
   "source": [
    "引数としてTrainingData関数で作成した教師データをX，ラベルをyで受け取る．  \n",
    "交差検証法の一つleave-one-out交差検証で識別精度評価を行う．\n",
    "\n",
    "* (1個をテストデータ，残りを教師データにして学習・評価) * すべてのデータ個\n",
    "* 得られたすべてのデータ個の評価結果（識別率）の平均を求めてパーセントに直す\n",
    "* 評価結果（識別率）をTrainingData関数に返す"
   ]
  },
  {
   "cell_type": "code",
   "execution_count": 12,
   "metadata": {
    "collapsed": true
   },
   "outputs": [],
   "source": [
    "def SVM_LOO(X, y):\n",
    "\n",
    "    LOOscore = np.zeros(len(X))\n",
    "    \n",
    "    # 1個をテストデータ，残りを教師データにして学習・評価\n",
    "    # すべてのデータに対して行う\n",
    "    for i in range(len(X)):\n",
    "        \n",
    "        print('------ ' + str(i) + ' / ' + str(len(X)) + '回 -----')\n",
    "\n",
    "        # テストデータ\n",
    "        X_test = X[i].reshape(1, -1)\n",
    "        y_test = y[i].reshape(1, -1)\n",
    "\n",
    "        # テストデータとして使用するデータを除いた教師データを作成\n",
    "        X_train = np.delete(X, i, 0)\n",
    "        y_train = np.delete(y, i, 0)\n",
    "\n",
    "        # 線形SVMのインスタンスを生成\n",
    "        model = svm.SVC(kernel = 'linear', C = 1)\n",
    "        \n",
    "        # モデルの学習\n",
    "        model.fit(X_train, y_train)\n",
    "\n",
    "        # 評価結果（識別率）を格納\n",
    "        LOOscore[i] = model.score(X_test, y_test)\n",
    "\n",
    "        \n",
    "    # 評価結果（識別率）の平均を求める\n",
    "    result = LOOscore.mean()\n",
    "    \n",
    "    # パーセントに直す\n",
    "    result = round(result * 100, 1)\n",
    "    \n",
    "    print(str(LOOscore) + '\\n')\n",
    "\n",
    "    return result"
   ]
  },
  {
   "cell_type": "markdown",
   "metadata": {},
   "source": [
    "## TrainingData関数 \n",
    "引数として読み込みたいTapping/Restのそれぞれのファイル名をfile_tap/file_restで受け取る． \n",
    "* 機械学習にかけれるようにデータのベクトル化とラベルを作成\n",
    "* データとラベルをSVM_LOO関数に渡す\n",
    "* 帰ってきた識別率をmain関数に返す"
   ]
  },
  {
   "cell_type": "code",
   "execution_count": 13,
   "metadata": {
    "collapsed": true
   },
   "outputs": [],
   "source": [
    "def TrainingData(file_rest, file_tap):\n",
    "    \n",
    "    # 読み込みたいファイルのパス\n",
    "    PATH_rest = PATH + file_rest\n",
    "    PATH_tap = PATH + file_tap\n",
    "\n",
    "\n",
    "    # csvファイル読み込み\n",
    "    rest = pd.read_csv(PATH_rest, header = 0)\n",
    "    tap = pd.read_csv(PATH_tap, header = 0) \n",
    "    \n",
    "    # RestとTappingのデータをまとめる\n",
    "    all_data = pd.concat([rest, tap], axis = 0)\n",
    "\n",
    "    # ベクトル化\n",
    "    X = all_data.as_matrix()\n",
    "\n",
    "    # ラベル作成\n",
    "    label_rest = np.zeros(len(rest.index))\n",
    "    label_tap = np.ones(len(tap.index))\n",
    "\n",
    "    y = np.r_[label_rest, label_tap]\n",
    "\n",
    "    \n",
    "    # 学習とleave-one-out交差検証\n",
    "    \n",
    "    print('leave-one-out')\n",
    "\n",
    "    col_name = 'leave-one-out'\n",
    "    \n",
    "    #print(col_name)\n",
    "    \n",
    "    # SVM_LOO関数\n",
    "    result_LOO = SVM_LOO(X, y)\n",
    "    \n",
    "    # 評価結果（識別率）をデータフレームに変換・格納\n",
    "    ac = pd.DataFrame({col_name : [result_LOO] })\n",
    "    \n",
    "\n",
    "    return ac\n",
    "\n",
    "    "
   ]
  },
  {
   "cell_type": "markdown",
   "metadata": {},
   "source": [
    "## main関数"
   ]
  },
  {
   "cell_type": "code",
   "execution_count": 14,
   "metadata": {},
   "outputs": [
    {
     "name": "stdout",
     "output_type": "stream",
     "text": [
      "\n",
      "--------- TDAvec_autocor(100, 01dim) + SVM Data ---------\n",
      "leave-one-out\n",
      "------ 0 / 14回 -----\n",
      "------ 1 / 14回 -----\n",
      "------ 2 / 14回 -----\n",
      "------ 3 / 14回 -----\n",
      "------ 4 / 14回 -----\n",
      "------ 5 / 14回 -----\n",
      "------ 6 / 14回 -----\n",
      "------ 7 / 14回 -----\n",
      "------ 8 / 14回 -----\n",
      "------ 9 / 14回 -----\n",
      "------ 10 / 14回 -----\n",
      "------ 11 / 14回 -----\n",
      "------ 12 / 14回 -----\n",
      "------ 13 / 14回 -----\n",
      "[ 1.  0.  0.  0.  0.  0.  1.  1.  0.  0.  1.  1.  1.  1.]\n",
      "\n",
      "\n",
      "   leave-one-out\n",
      "0           50.0\n",
      "\n",
      "--------- TDAvec_autocor(100, 012dim) + SVM Data ---------\n",
      "leave-one-out\n",
      "------ 0 / 14回 -----\n",
      "------ 1 / 14回 -----\n",
      "------ 2 / 14回 -----\n",
      "------ 3 / 14回 -----\n",
      "------ 4 / 14回 -----\n",
      "------ 5 / 14回 -----\n",
      "------ 6 / 14回 -----\n",
      "------ 7 / 14回 -----\n",
      "------ 8 / 14回 -----\n",
      "------ 9 / 14回 -----\n",
      "------ 10 / 14回 -----\n",
      "------ 11 / 14回 -----\n",
      "------ 12 / 14回 -----\n",
      "------ 13 / 14回 -----\n",
      "[ 1.  0.  0.  0.  0.  1.  1.  1.  0.  0.  1.  1.  1.  1.]\n",
      "\n",
      "\n",
      "   leave-one-out\n",
      "0           57.1\n",
      "\n",
      "--------- TDAvec_autocor(300, 01dim) + SVM Data ---------\n",
      "leave-one-out\n",
      "------ 0 / 14回 -----\n",
      "------ 1 / 14回 -----\n",
      "------ 2 / 14回 -----\n",
      "------ 3 / 14回 -----\n",
      "------ 4 / 14回 -----\n",
      "------ 5 / 14回 -----\n",
      "------ 6 / 14回 -----\n",
      "------ 7 / 14回 -----\n",
      "------ 8 / 14回 -----\n",
      "------ 9 / 14回 -----\n",
      "------ 10 / 14回 -----\n",
      "------ 11 / 14回 -----\n",
      "------ 12 / 14回 -----\n",
      "------ 13 / 14回 -----\n",
      "[ 1.  0.  0.  0.  0.  1.  1.  1.  0.  0.  1.  1.  0.  1.]\n",
      "\n",
      "\n",
      "   leave-one-out\n",
      "0           50.0\n",
      "\n",
      "--------- TDAvec_autocor(300, 012dim) + SVM Data ---------\n",
      "leave-one-out\n",
      "------ 0 / 14回 -----\n",
      "------ 1 / 14回 -----\n",
      "------ 2 / 14回 -----\n",
      "------ 3 / 14回 -----\n",
      "------ 4 / 14回 -----\n",
      "------ 5 / 14回 -----\n",
      "------ 6 / 14回 -----\n",
      "------ 7 / 14回 -----\n",
      "------ 8 / 14回 -----\n",
      "------ 9 / 14回 -----\n",
      "------ 10 / 14回 -----\n",
      "------ 11 / 14回 -----\n",
      "------ 12 / 14回 -----\n",
      "------ 13 / 14回 -----\n",
      "[ 1.  0.  0.  0.  0.  1.  1.  1.  0.  0.  1.  1.  0.  1.]\n",
      "\n",
      "\n",
      "   leave-one-out\n",
      "0           50.0\n"
     ]
    }
   ],
   "source": [
    "if __name__ == '__main__':\n",
    "    \n",
    "        \n",
    "    for kizami in range(len(PM_kizami)):\n",
    "        \n",
    "        for hole in range(len(PM_hole)):\n",
    "            \n",
    "            PM_dataName = PM_kizami[kizami] + '_' + PM_hole[hole]\n",
    "\n",
    "            # 機械学習するデータ（提案手法でベクトル化したcsvファイル）\n",
    "            ML_restData = 'TDAvec_autocor_rest_custom_' + PM_dataName + '.csv'\n",
    "            ML_tapData = 'TDAvec_autocor_tap_custom_' + PM_dataName + '.csv'\n",
    "\n",
    "            # 出力するデータの行名，ファイル名\n",
    "            outputIndex = 'TDAvec_autocor(' + PM_kizami[kizami] + ', ' + PM_hole[hole] + ') + SVM'\n",
    "            outputFile = 'TDAvecAutocor' + PM_hole[hole] + PM_kizami[kizami]\n",
    "\n",
    "            # 識別率を算出\n",
    "\n",
    "            print('\\n--------- ' + outputIndex + ' Data ---------')\n",
    "            PS_result = TrainingData(ML_restData, ML_tapData)\n",
    "            print('\\n' + str(PS_result))\n",
    "\n",
    "\n",
    "            # インデックス名をつける\n",
    "            result_index = [outputIndex]\n",
    "            PS_result.index = result_index\n",
    "\n",
    "            # csv書き出し\n",
    "            PATH_RESULT = PATH + 'ACCURACY[loo]_' + outputFile + '_SVM.csv'\n",
    "            PS_result.to_csv(PATH_RESULT, index = True)"
   ]
  },
  {
   "cell_type": "code",
   "execution_count": null,
   "metadata": {
    "collapsed": true
   },
   "outputs": [],
   "source": []
  },
  {
   "cell_type": "code",
   "execution_count": null,
   "metadata": {
    "collapsed": true
   },
   "outputs": [],
   "source": []
  }
 ],
 "metadata": {
  "kernelspec": {
   "display_name": "Python 3",
   "language": "python",
   "name": "python3"
  },
  "language_info": {
   "codemirror_mode": {
    "name": "ipython",
    "version": 3
   },
   "file_extension": ".py",
   "mimetype": "text/x-python",
   "name": "python",
   "nbconvert_exporter": "python",
   "pygments_lexer": "ipython3",
   "version": "3.6.1"
  }
 },
 "nbformat": 4,
 "nbformat_minor": 2
}
