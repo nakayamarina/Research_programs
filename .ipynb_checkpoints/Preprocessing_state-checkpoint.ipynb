{
 "cells": [
  {
   "cell_type": "markdown",
   "metadata": {},
   "source": [
    "# 実験（ブロックデザイン）から得られたfMRIデータの前処理\n",
    "----  \n",
    "  \n",
    "引数：Y01.csv, Y02.csv,... の入ったVexelディレクトリがあるディレクトリまでのパス  \n",
    "  \n",
    "---  \n",
    "\n",
    "入力：Y01.csv, Y02.csv,...  \n",
    "  \n",
    "---  \n",
    "  \n",
    "出力：  \n",
    "* RawData/raw_all.csv : すべてのボクセルのZ-scoreをまとめたもの\n",
    "* RawData/raw_rest.csv : Rest時のZ-scoreだけをまとめたもの\n",
    "* RawData/raw_tap.csv : Tapping時のZ-scoreだけをまとめたもの\n",
    "* RawData/Raw_image/voxel[ボクセル番号]_Tapping.png：Tapping時の各ボクセルのデータをプロットしたもの\n",
    "* RawData/Raw_image/voxel[ボクセル番号]_Rest.png：Rest時の各ボクセルのデータをプロットしたもの\n",
    "  \n",
    "[ボクセル番号]には列名にもあるボクセルの数\n",
    "  \n",
    "----\n",
    "\n",
    "\n",
    "/VoxelディレクトリのY01.csv, Y02.csv, ... のデータには，指のタッピング運動時に賦活しているとされる上位10ボクセルそれぞれのZ-score（賦活度合いみたいなもの）が記録されている．  \n",
    "\n",
    "実験デザインは以下のようになっており，（撮像方法は12ch, 32ch Head coil, Multi-bandの3種類）\n",
    "  \n",
    "[12ch or 32ch Head coil]  \n",
    "  \n",
    "200 scan（600s）  \n",
    "TR 3s / 1scan  \n",
    "  \n",
    "100:\tRest  \n",
    "100:  Tapping \n",
    "\n",
    "\n",
    "[32ch Multi-band]  \n",
    "  \n",
    "600 scan（600s）  \n",
    "TR 1s / 1scan  \n",
    "  \n",
    "300:\tRest  \n",
    "300:  Tapping \n",
    "  \n",
    " \n",
    "Z-scoreはこの実験デザインに従って記録されている．  \n",
    "ここでは，Rest時とTapping時を分別して順番に並べることで時系列データを得る．  \n",
    "  \n",
    "  "
   ]
  },
  {
   "cell_type": "code",
   "execution_count": 169,
   "metadata": {},
   "outputs": [
    {
     "name": "stdout",
     "output_type": "stream",
     "text": [
      "########## Preprocessing.py program excution ############\n"
     ]
    }
   ],
   "source": [
    "print('########## Preprocessing.py program excution ############')"
   ]
  },
  {
   "cell_type": "code",
   "execution_count": 170,
   "metadata": {
    "collapsed": true
   },
   "outputs": [],
   "source": [
    "import glob\n",
    "import sys\n",
    "import pandas as pd\n",
    "import matplotlib.pyplot as plt\n",
    "import os"
   ]
  },
  {
   "cell_type": "markdown",
   "metadata": {},
   "source": [
    "コマンドライン引数で/Voxelディレクトリがあるディレクトリまでのパスを取得"
   ]
  },
  {
   "cell_type": "code",
   "execution_count": 183,
   "metadata": {
    "collapsed": true
   },
   "outputs": [],
   "source": [
    "#args = sys.argv\n",
    "#PATH_pre = args[1]\n",
    "\n",
    "# jupyter notebookのときはここで指定\n",
    "PATH_pre = '../Data_state/analysis_by_programs/20171020rn/12ch/'\n",
    "\n",
    "# /Voxelディレクトリまでのパス\n",
    "PATH = PATH_pre + 'Voxel/'"
   ]
  },
  {
   "cell_type": "markdown",
   "metadata": {},
   "source": [
    "後で出力するcsvファイルを保存するディレクトリ（RawData）、pngファイルを保存するディレクトリ（Raw_image）を作成"
   ]
  },
  {
   "cell_type": "code",
   "execution_count": 172,
   "metadata": {
    "collapsed": true
   },
   "outputs": [],
   "source": [
    "# RawDataのディレクトリ名・パス\n",
    "DIR_RAW = PATH + '../RawData'\n",
    "PATH_RAW = DIR_RAW + '/'\n",
    "\n",
    "# すでに存在する場合は何もせず，存在していない場合はディレクトリ作成\n",
    "if not os.path.exists(DIR_RAW):\n",
    "    os.mkdir(DIR_RAW)\n",
    "    \n",
    "# Raw_imageのディレクトリ名・パス\n",
    "DIR_image = PATH_RAW + 'Raw_image'\n",
    "PATH_image = DIR_image + '/'\n",
    "\n",
    "# すでに存在する場合は何もせず，存在していない場合はディレクトリ作成\n",
    "if not os.path.exists(DIR_image):\n",
    "    os.mkdir(DIR_image) \n",
    "    \n",
    "#TR=3の時の全スキャン数，1ブロックのスキャン数\n",
    "tr3scan = 96\n",
    "te3block = 192\n",
    "\n",
    "#TR=1の時の全スキャン数，1ブロックのスキャン数\n",
    "tr1scan = 296\n",
    "tr1block = 592\n"
   ]
  },
  {
   "cell_type": "markdown",
   "metadata": {},
   "source": [
    "## splitRT関数\n",
    "\n",
    "引数に１ブロックのscan数を受け取り，Rest時とTapping時のデータを分けてcsvファイルで書き出し"
   ]
  },
  {
   "cell_type": "code",
   "execution_count": 173,
   "metadata": {
    "collapsed": true
   },
   "outputs": [],
   "source": [
    "def splitRT(brain, number_scan):\n",
    "\n",
    "    # Rest，Tappingのデータ抽出用maskを作成\n",
    "    # （行数 // number_scan）% 2　で割り切れる（0）ならRest，割り切れない（1）のであればTapping\n",
    "    # （除算は '//' としないと小数まで計算される）\n",
    "\n",
    "    mask_R = (brain.index // number_scan) % 2 == 0\n",
    "    mask_T = (brain.index // number_scan) % 2 == 1\n",
    "    \n",
    "    # mask適用\n",
    "    data_rest = brain[mask_R]\n",
    "    data_tap = brain[mask_T]\n",
    "    \n",
    "    # csv書き出し\n",
    "    PATH_REST = PATH_RAW + 'raw_rest.csv'\n",
    "    data_rest.to_csv(PATH_REST, index = False)\n",
    "    PATH_TAP = PATH_RAW + 'raw_tap.csv'\n",
    "    data_tap.to_csv(PATH_TAP, index = False)\n",
    "    \n",
    "    plotIMAGE(data_rest, 'Rest')\n",
    "    plotIMAGE(data_tap, 'Tapping')\n"
   ]
  },
  {
   "cell_type": "markdown",
   "metadata": {},
   "source": [
    "## plotIMAGE関数\n"
   ]
  },
  {
   "cell_type": "code",
   "execution_count": 174,
   "metadata": {
    "collapsed": true
   },
   "outputs": [],
   "source": [
    "def plotIMAGE(data, task):\n",
    "    \n",
    "    # indexが連番になっていないのでreset_indexで番号を振り直す\n",
    "    # drop=Trueにしなければ古いindexが新しい列として追加されてしまう\n",
    "    data = data.reset_index(drop = True)\n",
    "    \n",
    "    # ボクセル（列）の数だけ繰り返す\n",
    "    for i in range(len(data.columns)):\n",
    "        \n",
    "        # この後に出力するpngファイル名\n",
    "        FILE_NAME = DIR_image + '/voxel' + str(i+1) + '_' + task + '.png'\n",
    "        \n",
    "        # データをplot\n",
    "        plt.plot(data.iloc[:, i], label = 'fMRIdata')\n",
    "        \n",
    "        # グラフのタイトル\n",
    "        graph_name = 'fMRIdata : ' + task + '-voxel' + str(i+1) \n",
    "        plt.title(graph_name)\n",
    "        \n",
    "        # グラフの凡例\n",
    "        plt.legend()\n",
    "        \n",
    "        # ファイル名をつけて保存，終了\n",
    "        plt.savefig(FILE_NAME)\n",
    "        plt.close()\n",
    "        \n",
    "        print(FILE_NAME)"
   ]
  },
  {
   "cell_type": "markdown",
   "metadata": {},
   "source": [
    "## main関数 "
   ]
  },
  {
   "cell_type": "markdown",
   "metadata": {},
   "source": [
    "* fMRIデータ読み込み\n",
    "* 全ボクセルデータ連結\n",
    "* 全ボクセルデータをcsvで書き出し"
   ]
  },
  {
   "cell_type": "code",
   "execution_count": 175,
   "metadata": {
    "collapsed": true
   },
   "outputs": [],
   "source": [
    "if __name__ == '__main__':\n",
    "    # /Voxelディレクトリ内のcsvファイルのパスを取得\n",
    "    csv_file = PATH + '*.csv'\n",
    "    files = []\n",
    "    files = glob.glob(csv_file)"
   ]
  },
  {
   "cell_type": "code",
   "execution_count": 176,
   "metadata": {
    "collapsed": true
   },
   "outputs": [],
   "source": [
    "    # 1つ目のファイルを読み込む\n",
    "\n",
    "    # 列名\n",
    "    row_name = \"Voxel1\"\n",
    "\n",
    "    # 列名をつけてデータフレームとして読み込み（row_nameの後に','をつけることで1列だけ名前をつけることができる）\n",
    "    brain = pd.read_csv(files[0], names=(row_name,))"
   ]
  },
  {
   "cell_type": "code",
   "execution_count": 177,
   "metadata": {
    "collapsed": true
   },
   "outputs": [],
   "source": [
    "    # 同様に2つ目以降のファイルをデータフレームとして読み込み，1つ目のデータフレームに横連結\n",
    "    for i in range(1, len(files)):\n",
    "\n",
    "        row_name = \"Voxel\" + str(i+1)\n",
    "        data = pd.read_csv(files[i], names=(row_name,))\n",
    "\n",
    "        brain = pd.concat([brain, data], axis = 1)"
   ]
  },
  {
   "cell_type": "code",
   "execution_count": 178,
   "metadata": {
    "collapsed": true
   },
   "outputs": [],
   "source": [
    "    # 全ボクセルデータをcsv書き出し\n",
    "    PATH_BRAIN = PATH_RAW + 'all_raw.csv'\n",
    "    brain.to_csv(PATH_BRAIN, index = False)"
   ]
  },
  {
   "cell_type": "code",
   "execution_count": 179,
   "metadata": {},
   "outputs": [
    {
     "name": "stdout",
     "output_type": "stream",
     "text": [
      "../tameshi/20170130ar/12ch/Voxel/../RawData/Raw_image/voxel1_Rest.png\n",
      "../tameshi/20170130ar/12ch/Voxel/../RawData/Raw_image/voxel2_Rest.png\n",
      "../tameshi/20170130ar/12ch/Voxel/../RawData/Raw_image/voxel3_Rest.png\n",
      "../tameshi/20170130ar/12ch/Voxel/../RawData/Raw_image/voxel4_Rest.png\n",
      "../tameshi/20170130ar/12ch/Voxel/../RawData/Raw_image/voxel5_Rest.png\n",
      "../tameshi/20170130ar/12ch/Voxel/../RawData/Raw_image/voxel6_Rest.png\n",
      "../tameshi/20170130ar/12ch/Voxel/../RawData/Raw_image/voxel7_Rest.png\n",
      "../tameshi/20170130ar/12ch/Voxel/../RawData/Raw_image/voxel8_Rest.png\n",
      "../tameshi/20170130ar/12ch/Voxel/../RawData/Raw_image/voxel9_Rest.png\n",
      "../tameshi/20170130ar/12ch/Voxel/../RawData/Raw_image/voxel10_Rest.png\n",
      "../tameshi/20170130ar/12ch/Voxel/../RawData/Raw_image/voxel1_Tapping.png\n",
      "../tameshi/20170130ar/12ch/Voxel/../RawData/Raw_image/voxel2_Tapping.png\n",
      "../tameshi/20170130ar/12ch/Voxel/../RawData/Raw_image/voxel3_Tapping.png\n",
      "../tameshi/20170130ar/12ch/Voxel/../RawData/Raw_image/voxel4_Tapping.png\n",
      "../tameshi/20170130ar/12ch/Voxel/../RawData/Raw_image/voxel5_Tapping.png\n",
      "../tameshi/20170130ar/12ch/Voxel/../RawData/Raw_image/voxel6_Tapping.png\n",
      "../tameshi/20170130ar/12ch/Voxel/../RawData/Raw_image/voxel7_Tapping.png\n",
      "../tameshi/20170130ar/12ch/Voxel/../RawData/Raw_image/voxel8_Tapping.png\n",
      "../tameshi/20170130ar/12ch/Voxel/../RawData/Raw_image/voxel9_Tapping.png\n",
      "../tameshi/20170130ar/12ch/Voxel/../RawData/Raw_image/voxel10_Tapping.png\n"
     ]
    }
   ],
   "source": [
    "    # 12ch or 32ch Head coil の場合\n",
    "    if len(brain) == tr3scan:\n",
    "\n",
    "        splitRT(brain, tr3block)"
   ]
  },
  {
   "cell_type": "code",
   "execution_count": 180,
   "metadata": {
    "collapsed": true
   },
   "outputs": [],
   "source": [
    "    # 32ch Milti-band の場合\n",
    "    if len(brain) == tr1scan:\n",
    "        \n",
    "        splitRT(brain, tr1block)"
   ]
  },
  {
   "cell_type": "code",
   "execution_count": null,
   "metadata": {
    "collapsed": true
   },
   "outputs": [],
   "source": []
  }
 ],
 "metadata": {
  "kernelspec": {
   "display_name": "Python 3",
   "language": "python",
   "name": "python3"
  },
  "language_info": {
   "codemirror_mode": {
    "name": "ipython",
    "version": 3
   },
   "file_extension": ".py",
   "mimetype": "text/x-python",
   "name": "python",
   "nbconvert_exporter": "python",
   "pygments_lexer": "ipython3",
   "version": "3.6.1"
  }
 },
 "nbformat": 4,
 "nbformat_minor": 2
}
