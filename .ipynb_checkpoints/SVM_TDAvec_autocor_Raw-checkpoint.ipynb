{
 "cells": [
  {
   "cell_type": "markdown",
   "metadata": {},
   "source": [
    "# SVMによる学習と識別性能評価（生データ&特徴データ）"
   ]
  },
  {
   "cell_type": "markdown",
   "metadata": {},
   "source": [
    "---\n",
    "  \n",
    "引数：raw_tap.csv/raw_rest.csv/TDAvec_autocor_tap.csv/TDAvec_autocor_rest.csvがあるディレクトリまでのパス  \n",
    "  \n",
    "---\n",
    "  \n",
    "入力： \n",
    "* raw_tap.csv/raw_rest.csv  \n",
    "* TDAvec_autocor_tap.csv/TDAvec_autocor_rest.csv\n",
    "\n",
    "---\n",
    "  \n",
    "出力：ACCURACY[loo][k_list].csv　識別性能評価結果一覧  \n",
    "k_listはk-分割交差検証法で用いた分割数\n",
    "\n",
    "---  \n",
    "\n",
    "生データ（生データ or 生データに移動平均線を適用したデータ）と特徴抽出したデータをSVMを用いて学習し，\n",
    "交差検証法（k-分割交差検証，leave-one-out交差検証）を用いて識別性能評価を行う．\n"
   ]
  },
  {
   "cell_type": "code",
   "execution_count": 235,
   "metadata": {
    "collapsed": true
   },
   "outputs": [],
   "source": [
    "import numpy as np\n",
    "import pandas as pd\n",
    "import sys\n",
    "\n",
    "from sklearn import cross_validation\n",
    "from sklearn import svm\n",
    "from sklearn.model_selection import train_test_split"
   ]
  },
  {
   "cell_type": "markdown",
   "metadata": {},
   "source": [
    "コマンドライン引数でraw_tap.csv/raw_rest.csv/TDAvec_autocor_tap.csv/TDAvec_autocor_rest.csvがあるディレクトリまでのパスを取得"
   ]
  },
  {
   "cell_type": "code",
   "execution_count": 236,
   "metadata": {
    "collapsed": true
   },
   "outputs": [],
   "source": [
    "#args = sys.argv\n",
    "#PATH = args[1]\n",
    "\n",
    "# jupyter notebookのときはここで指定\n",
    "PATH = '../Data_block/20170130ar/12ch/MAL5/'\n"
   ]
  },
  {
   "cell_type": "code",
   "execution_count": 237,
   "metadata": {
    "collapsed": true
   },
   "outputs": [],
   "source": [
    "# RawDataディレクトリかMALディレクトリか識別用\n",
    "DIRs = PATH.split(\"/\")\n",
    "DATA_NAME = DIRs[len(DIRs) - 2]\n",
    "\n",
    "# k-分割交差検証用\n",
    "k_list = [3, 5, 7]"
   ]
  },
  {
   "cell_type": "markdown",
   "metadata": {},
   "source": [
    "## SVM_LOO関数"
   ]
  },
  {
   "cell_type": "markdown",
   "metadata": {},
   "source": [
    "引数としてTrainingData関数で作成した教師データをX_train，ラベルをy_trainで受け取る．  \n",
    "交差検証法の一つleave-one-out交差検証で識別精度評価を行う．\n",
    "\n",
    "* (1個をテストデータ，残りを教師データにして学習・評価) * すべてのデータ個\n",
    "* 得られたすべてのデータ個の評価結果（識別率）の平均を求めてパーセントに直す\n",
    "* 評価結果（識別率）をTrainingData関数に返す"
   ]
  },
  {
   "cell_type": "code",
   "execution_count": 242,
   "metadata": {
    "collapsed": true
   },
   "outputs": [],
   "source": [
    "def SVM_LOO(X_train, y_train):\n",
    "\n",
    "    LOOscore = np.zeros(len(X_train))\n",
    "    \n",
    "    # 1個をテストデータ，残りを教師データにして学習・評価\n",
    "    # すべてのデータに対して行う\n",
    "    for i in range(len(X_train)):\n",
    "\n",
    "        # テストデータ\n",
    "        X_test = X_train[i].reshape(1, -1)\n",
    "        y_test = y_train[i].reshape(1, -1)\n",
    "\n",
    "        # テストデータとして使用するデータを除いた教師データを作成\n",
    "        new_X_train = np.delete(X_train, i, 0)\n",
    "        new_y_train = np.delete(y_train, i, 0)\n",
    "\n",
    "        # 学習\n",
    "        clf = svm.SVC(kernel = 'linear', C = 1)\n",
    "        clf.fit(new_X_train, new_y_train)\n",
    "\n",
    "        # 評価結果（識別率）を格納\n",
    "        LOOscore[i] = clf.score(X_test, y_test)\n",
    "\n",
    "        \n",
    "    # 評価結果（識別率）の平均を求める\n",
    "    result = LOOscore.mean()\n",
    "    \n",
    "    # パーセントに直す\n",
    "    result = round(result * 100, 1)\n",
    "    \n",
    "    print(str(LOOscore) + '\\n')\n",
    "\n",
    "    return result"
   ]
  },
  {
   "cell_type": "markdown",
   "metadata": {},
   "source": [
    "## SVM_kCV関数"
   ]
  },
  {
   "cell_type": "markdown",
   "metadata": {},
   "source": [
    "引数としてTrainingData関数で作成した教師データをX_train，ラベルをy_train，データ分割数をkで受け取る．  \n",
    "交差検証法の一つk-分割交差検証で識別精度評価を行う．\n",
    "\n",
    "* 学習\n",
    "* (k分割し，1グループをテストデータ，残りグループを教師データにして評価) * k\n",
    "* 得られたk個の評価結果（識別率）の平均を求めてパーセントに直す\n",
    "* 評価結果（識別率）をTrainingData関数に返す"
   ]
  },
  {
   "cell_type": "code",
   "execution_count": 243,
   "metadata": {
    "collapsed": true
   },
   "outputs": [],
   "source": [
    "def SVM_kCV(X_train, y_train, k):\n",
    "    \n",
    "    # 学習\n",
    "    clf = svm.SVC(kernel = 'linear', C = 1)\n",
    "    clf.fit(X_train, y_train)\n",
    "    \n",
    "    # k分割し，1グループをテストデータ，残りグループを教師データにして評価\n",
    "    # すべてのグループに対して行う\n",
    "    # 評価結果（識別率）を格納\n",
    "    CVscore = cross_validation.cross_val_score(clf, X_train, y_train, cv = k)\n",
    "    \n",
    "    # 評価結果（識別率）の平均を求める\n",
    "    result = CVscore.mean()\n",
    "    \n",
    "    # パーセントに直す\n",
    "    result = round(result * 100, 1)\n",
    "\n",
    "    print('k = ' + str(k) + '：' + str(CVscore))\n",
    "    \n",
    "    return result\n",
    "    "
   ]
  },
  {
   "cell_type": "markdown",
   "metadata": {},
   "source": [
    "## TrainingData関数 \n",
    "引数として読み込みたいTapping/Restのそれぞれのファイル名をfile_tap/file_restで受け取る． \n",
    "* 機械学習にかけれるように教師データとラベルを作成\n",
    "* 作成した教師データとラベルをSVM_LOO関数，SVM_kCV関数に渡す\n",
    "* 帰ってきた識別率をまとめてmain関数に返す"
   ]
  },
  {
   "cell_type": "code",
   "execution_count": 244,
   "metadata": {
    "collapsed": true
   },
   "outputs": [],
   "source": [
    "def TrainingData(file_rest, file_tap):\n",
    "    \n",
    "    # 読み込みたいファイルのパス\n",
    "    PATH_rest = PATH + file_rest\n",
    "    PATH_tap = PATH + file_tap\n",
    "\n",
    "    # csvファイル読み込み\n",
    "    rest = pd.read_csv(PATH_rest, header = 0)\n",
    "    tap = pd.read_csv(PATH_tap, header = 0) \n",
    "\n",
    "    # RestとTappingのデータをまとめる\n",
    "    all_data = pd.concat([rest, tap], axis = 0)\n",
    "\n",
    "    # 教師データにするためにベクトル化\n",
    "    X_train = all_data.as_matrix()\n",
    "\n",
    "    # ラベル作成\n",
    "    label_rest = np.zeros(len(rest.index))\n",
    "    label_tap = np.ones(len(tap.index))\n",
    "\n",
    "    y_train = np.r_[label_rest, label_tap]\n",
    "\n",
    "    \n",
    "    # 学習とleave-one-out交差検証\n",
    "    \n",
    "    print('leave-one-out')\n",
    "\n",
    "    col_name = 'leave-one-out'\n",
    "    \n",
    "    #print(col_name)\n",
    "    \n",
    "    # SVM_LOO関数\n",
    "    result_LOO = SVM_LOO(X_train, y_train)\n",
    "    \n",
    "    # 評価結果（識別率）をデータフレームに変換・格納\n",
    "    results = pd.DataFrame({col_name : [result_LOO] })\n",
    "    \n",
    "    \n",
    "    # 学習とk-分割交差検証\n",
    "    \n",
    "    print('k-hold Cross-Validation')\n",
    "    \n",
    "    # k_listに従って学習・評価\n",
    "    for i in k_list:\n",
    "        \n",
    "        col_name = 'k = ' + str(i)\n",
    "        \n",
    "        #print(col_name)\n",
    "        \n",
    "        # SVM_CV関数\n",
    "        result_CV = SVM_kCV(X_train, y_train, i)\n",
    "        \n",
    "        # 評価結果（識別率）をデータフレームに変換・格納\n",
    "        result_CV = pd.DataFrame({col_name : [result_CV] })\n",
    "        results = pd.concat([results, result_CV], axis = 1)\n",
    "    \n",
    "    return results\n",
    "\n",
    "    "
   ]
  },
  {
   "cell_type": "markdown",
   "metadata": {},
   "source": [
    "## main関数"
   ]
  },
  {
   "cell_type": "code",
   "execution_count": 246,
   "metadata": {},
   "outputs": [
    {
     "name": "stdout",
     "output_type": "stream",
     "text": [
      "--------- MAL5 ---------\n",
      "leave-one-out\n",
      "[ 0.  1.  1.  1.  1.  1.  1.  1.  1.  1.  1.  1.  1.  1.  1.  1.  1.  1.\n",
      "  1.  1.  1.  1.  1.  1.  1.  1.  1.  1.  1.  1.  1.  1.  1.  1.  1.  0.\n",
      "  0.  1.  1.  1.  1.  1.  1.  1.  1.  1.  1.  1.  1.  1.  1.  1.  1.  1.\n",
      "  1.  1.  1.  1.  1.  1.  1.  1.  1.  1.  1.  1.  1.  1.  1.  1.  1.  1.\n",
      "  1.  1.  1.  1.  1.  1.  1.  1.  1.  1.  1.  1.  1.  1.  1.  1.  1.  0.\n",
      "  0.  0.  0.  1.  1.  1.  1.  1.  1.  0.  0.  0.  1.  1.  1.  1.  1.  1.\n",
      "  1.  0.  0.  0.]\n",
      "\n",
      "k-hold Cross-Validation\n",
      "k = 3：[ 0.97368421  0.78947368  0.66666667]\n",
      "k = 5：[ 0.95833333  1.          0.90909091  0.63636364  0.77272727]\n",
      "k = 7：[ 0.9375  1.      1.      1.      0.5625  0.6875  0.8125]\n",
      "\n",
      "   leave-one-out  k = 3  k = 5  k = 7\n",
      "0           88.4   81.0   85.5   85.7\n",
      "\n",
      "--------- Feature Extraction Data ---------\n",
      "leave-one-out\n",
      "[ 0.  1.  1.  0.  0.  0.  1.  1.  1.  0.  1.  1.  0.  1.  0.  1.  0.  1.\n",
      "  1.  1.]\n",
      "\n",
      "k-hold Cross-Validation\n",
      "k = 3：[ 0.625       0.5         0.83333333]\n",
      "k = 5：[ 0.5   0.5   0.25  0.5   0.75]\n",
      "k = 7：[ 0.5   0.5   0.25  0.5   1.    1.    0.5 ]\n",
      "\n",
      "   leave-one-out  k = 3  k = 5  k = 7\n",
      "0           60.0   65.3   50.0   60.7\n"
     ]
    }
   ],
   "source": [
    "if __name__ == '__main__':\n",
    "    \n",
    "    # 生データの識別率\n",
    "\n",
    "    print('--------- ' + DATA_NAME + ' ---------')\n",
    "    raw_result = TrainingData('raw_rest.csv', 'raw_tap.csv')\n",
    "    print('\\n' + str(raw_result))\n",
    "\n",
    "    # 特徴抽出データの識別率\n",
    "\n",
    "    print('\\n--------- Feature Extraction Data ---------')\n",
    "    fe_result = TrainingData('TDAvec_autocor_rest.csv', 'TDAvec_autocor_tap.csv')\n",
    "    print('\\n' + str(fe_result))\n",
    "    \n",
    "    # 生データと特徴抽出データの識別率をまとめる\n",
    "    result_cmp = pd.concat([raw_result, fe_result], axis = 0)\n",
    "    \n",
    "    # インデックス名をつける\n",
    "    result_index = [DATA_NAME, 'TDAvec_autocor']\n",
    "    result_cmp.index = result_index\n",
    "    \n",
    "    # csv書き出し\n",
    "    PATH_RESULT = PATH + 'ACCURACY[loo][' + str(k_list) + '.csv'\n",
    "    result_cmp.to_csv(PATH_RESULT, index = True)"
   ]
  },
  {
   "cell_type": "code",
   "execution_count": null,
   "metadata": {
    "collapsed": true
   },
   "outputs": [],
   "source": []
  }
 ],
 "metadata": {
  "kernelspec": {
   "display_name": "Python 3",
   "language": "python",
   "name": "python3"
  },
  "language_info": {
   "codemirror_mode": {
    "name": "ipython",
    "version": 3
   },
   "file_extension": ".py",
   "mimetype": "text/x-python",
   "name": "python",
   "nbconvert_exporter": "python",
   "pygments_lexer": "ipython3",
   "version": "3.6.1"
  }
 },
 "nbformat": 4,
 "nbformat_minor": 2
}
