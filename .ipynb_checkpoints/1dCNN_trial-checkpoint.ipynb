{
 "cells": [
  {
   "cell_type": "code",
   "execution_count": 501,
   "metadata": {},
   "outputs": [],
   "source": [
    "import pandas as pd\n",
    "import sys\n",
    "\n",
    "import numpy as np\n",
    "from keras.models import Sequential\n",
    "from keras.layers import Dense, Dropout, Activation, Flatten\n",
    "%matplotlib inline\n",
    "import matplotlib.pyplot as plt\n",
    "from keras.layers.convolutional import Conv1D, UpSampling1D\n",
    "from keras.layers.pooling import MaxPooling1D\n",
    "from keras.utils import np_utils\n",
    "\n",
    "from sklearn.model_selection import KFold\n",
    "from sklearn.model_selection import train_test_split\n"
   ]
  },
  {
   "cell_type": "code",
   "execution_count": 413,
   "metadata": {
    "collapsed": true
   },
   "outputs": [],
   "source": [
    "#args = sys.argv\n",
    "#PATH = args[1]\n",
    "\n",
    "# jupyter notebookのときはここで指定\n",
    "PATH = '../Data_block/analysis_by_programs/20170130ar/12ch/MAL5/'\n",
    "\n"
   ]
  },
  {
   "cell_type": "code",
   "execution_count": 551,
   "metadata": {},
   "outputs": [],
   "source": [
    "# file_rest = 'TDAvec_autocor_rest.csv'\n",
    "# file_tap = 'TDAvec_autocor_tap.csv'\n",
    "\n",
    "file_rest = 'raw_rest.csv'\n",
    "file_tap = 'raw_tap.csv'\n",
    "\n",
    "# 読み込みたいファイルのパス\n",
    "PATH_rest = PATH + file_rest\n",
    "PATH_tap = PATH + file_tap\n",
    "\n",
    "# csvファイル読み込み\n",
    "rest = pd.read_csv(PATH_rest, header = 0)\n",
    "tap = pd.read_csv(PATH_tap, header = 0) \n",
    "\n",
    "rest = rest.T\n",
    "tap = tap.T\n",
    "\n",
    "# RestとTappingのデータをまとめる\n",
    "all_data = pd.concat([rest, tap], axis = 0)\n",
    "\n",
    "# ベクトル化\n",
    "X = all_data.as_matrix()\n",
    "\n",
    "# ラベル作成\n",
    "label_rest = np.zeros(len(rest.index))\n",
    "label_tap = np.ones(len(tap.index))\n",
    "\n",
    "y = np.r_[label_rest, label_tap]\n",
    "\n",
    "k = 3"
   ]
  },
  {
   "cell_type": "code",
   "execution_count": 556,
   "metadata": {},
   "outputs": [
    {
     "name": "stdout",
     "output_type": "stream",
     "text": [
      "1\n",
      "Epoch 1/10\n",
      "13/13 [==============================] - 1s 75ms/step - loss: 0.2659 - acc: 0.3077\n",
      "Epoch 2/10\n",
      "13/13 [==============================] - 0s 317us/step - loss: 0.2609 - acc: 0.4615\n",
      "Epoch 3/10\n",
      "13/13 [==============================] - 0s 315us/step - loss: 0.2560 - acc: 0.5385\n",
      "Epoch 4/10\n",
      "13/13 [==============================] - 0s 319us/step - loss: 0.2512 - acc: 0.5385\n",
      "Epoch 5/10\n",
      "13/13 [==============================] - 0s 377us/step - loss: 0.2468 - acc: 0.6154\n",
      "Epoch 6/10\n",
      "13/13 [==============================] - 0s 460us/step - loss: 0.2421 - acc: 0.5385\n",
      "Epoch 7/10\n",
      "13/13 [==============================] - 0s 462us/step - loss: 0.2376 - acc: 0.6923\n",
      "Epoch 8/10\n",
      "13/13 [==============================] - 0s 360us/step - loss: 0.2332 - acc: 0.7692\n",
      "Epoch 9/10\n",
      "13/13 [==============================] - 0s 415us/step - loss: 0.2291 - acc: 0.7692\n",
      "Epoch 10/10\n",
      "13/13 [==============================] - 0s 336us/step - loss: 0.2252 - acc: 0.8462\n",
      "7/7 [==============================] - 0s 63ms/step\n",
      "[0.23060604929924011, 0.71428573131561279]\n",
      "2\n",
      "Epoch 1/10\n",
      "13/13 [==============================] - 1s 83ms/step - loss: 0.2477 - acc: 0.5385\n",
      "Epoch 2/10\n",
      "13/13 [==============================] - 0s 253us/step - loss: 0.2466 - acc: 0.5385\n",
      "Epoch 3/10\n",
      "13/13 [==============================] - 0s 297us/step - loss: 0.2452 - acc: 0.5385\n",
      "Epoch 4/10\n",
      "13/13 [==============================] - 0s 346us/step - loss: 0.2438 - acc: 0.6923\n",
      "Epoch 5/10\n",
      "13/13 [==============================] - 0s 314us/step - loss: 0.2424 - acc: 0.6923\n",
      "Epoch 6/10\n",
      "13/13 [==============================] - 0s 344us/step - loss: 0.2410 - acc: 0.6923\n",
      "Epoch 7/10\n",
      "13/13 [==============================] - 0s 337us/step - loss: 0.2396 - acc: 0.6154\n",
      "Epoch 8/10\n",
      "13/13 [==============================] - 0s 270us/step - loss: 0.2382 - acc: 0.6154\n",
      "Epoch 9/10\n",
      "13/13 [==============================] - 0s 450us/step - loss: 0.2368 - acc: 0.6154\n",
      "Epoch 10/10\n",
      "13/13 [==============================] - 0s 395us/step - loss: 0.2353 - acc: 0.6154\n",
      "7/7 [==============================] - 0s 66ms/step\n",
      "[0.23062838613986969, 1.0]\n",
      "3\n",
      "Epoch 1/10\n",
      "14/14 [==============================] - 1s 81ms/step - loss: 0.2722 - acc: 0.2857\n",
      "Epoch 2/10\n",
      "14/14 [==============================] - 0s 318us/step - loss: 0.2698 - acc: 0.2857\n",
      "Epoch 3/10\n",
      "14/14 [==============================] - 0s 410us/step - loss: 0.2670 - acc: 0.3571\n",
      "Epoch 4/10\n",
      "14/14 [==============================] - 0s 475us/step - loss: 0.2638 - acc: 0.3571\n",
      "Epoch 5/10\n",
      "14/14 [==============================] - 0s 325us/step - loss: 0.2607 - acc: 0.3571\n",
      "Epoch 6/10\n",
      "14/14 [==============================] - 0s 329us/step - loss: 0.2576 - acc: 0.2857\n",
      "Epoch 7/10\n",
      "14/14 [==============================] - 0s 374us/step - loss: 0.2546 - acc: 0.3571\n",
      "Epoch 8/10\n",
      "14/14 [==============================] - 0s 458us/step - loss: 0.2519 - acc: 0.4286\n",
      "Epoch 9/10\n",
      "14/14 [==============================] - 0s 366us/step - loss: 0.2492 - acc: 0.5000\n",
      "Epoch 10/10\n",
      "14/14 [==============================] - 0s 384us/step - loss: 0.2466 - acc: 0.6429\n",
      "6/6 [==============================] - 1s 84ms/step\n"
     ]
    },
    {
     "ename": "IndexError",
     "evalue": "index 3 is out of bounds for axis 0 with size 3",
     "output_type": "error",
     "traceback": [
      "\u001b[0;31m---------------------------------------------------------------------------\u001b[0m",
      "\u001b[0;31mIndexError\u001b[0m                                Traceback (most recent call last)",
      "\u001b[0;32m<ipython-input-556-793ab8ff3807>\u001b[0m in \u001b[0;36m<module>\u001b[0;34m()\u001b[0m\n\u001b[1;32m     49\u001b[0m     \u001b[0;31m# 評価結果（識別率）を格納\u001b[0m\u001b[0;34m\u001b[0m\u001b[0;34m\u001b[0m\u001b[0m\n\u001b[1;32m     50\u001b[0m     \u001b[0mscore\u001b[0m \u001b[0;34m=\u001b[0m \u001b[0mmodel\u001b[0m\u001b[0;34m.\u001b[0m\u001b[0mevaluate\u001b[0m\u001b[0;34m(\u001b[0m\u001b[0mX_test\u001b[0m\u001b[0;34m,\u001b[0m \u001b[0my_test\u001b[0m\u001b[0;34m)\u001b[0m\u001b[0;34m\u001b[0m\u001b[0m\n\u001b[0;32m---> 51\u001b[0;31m     \u001b[0mkCVscore\u001b[0m\u001b[0;34m[\u001b[0m\u001b[0mi\u001b[0m\u001b[0;34m]\u001b[0m \u001b[0;34m=\u001b[0m \u001b[0mscore\u001b[0m\u001b[0;34m[\u001b[0m\u001b[0;36m1\u001b[0m\u001b[0;34m]\u001b[0m\u001b[0;34m\u001b[0m\u001b[0m\n\u001b[0m\u001b[1;32m     52\u001b[0m     \u001b[0mprint\u001b[0m\u001b[0;34m(\u001b[0m\u001b[0mscore\u001b[0m\u001b[0;34m)\u001b[0m\u001b[0;34m\u001b[0m\u001b[0m\n\u001b[1;32m     53\u001b[0m     \u001b[0mi\u001b[0m \u001b[0;34m=\u001b[0m \u001b[0mi\u001b[0m \u001b[0;34m+\u001b[0m \u001b[0;36m1\u001b[0m\u001b[0;34m\u001b[0m\u001b[0m\n",
      "\u001b[0;31mIndexError\u001b[0m: index 3 is out of bounds for axis 0 with size 3"
     ]
    }
   ],
   "source": [
    "    \n",
    "    # 識別率を格納する配列\n",
    "    kCVscore = np.zeros(k)\n",
    "    \n",
    "    # ベクトルの長さを格納しておく\n",
    "    bach_size = X.shape[1]\n",
    "    \n",
    "    # 分割数\n",
    "    kf = KFold(n_splits=k, shuffle=False)\n",
    "    # 繰り返し回数\n",
    "    i = 1\n",
    "\n",
    "    for train_index, eval_index in kf.split(X):\n",
    "        \n",
    "        print(i)\n",
    "        \n",
    "        X_train, X_test = X[train_index], X[eval_index]\n",
    "        y_train, y_test = y[train_index], y[eval_index]\n",
    "\n",
    "        # （データ数, ベクトルの長さ，1）という形にリシェイプする\n",
    "        X_train = np.reshape(X_train, (-1, bach_size, 1))\n",
    "        X_test = np.reshape(X_test, (-1, bach_size, 1))\n",
    "\n",
    "        # ダミー変数に変換\n",
    "        y_train = np_utils.to_categorical(y_train, 2)\n",
    "        y_test = np_utils.to_categorical(y_test ,2)\n",
    "\n",
    "        # 1次元CNNのインスタンスを作成\n",
    "        # 参考文献（Time series classification via TDA）に従ってパラメータを設定\n",
    "        # 1st Conv1d : kernel_number = 7, kernel_size = 6\n",
    "        # 1st MacPooling : kernel_number = 7\n",
    "        # 2nd Conv1d : kernel_number = 7, kernel_size = 2\n",
    "        # 2nd MacPooling : kernel_number = 3\n",
    "        # Flattenで1次元に\n",
    "        model = Sequential()\n",
    "        model.add(Conv1D(7, 6, padding='same', input_shape=(bach_size, 1)))\n",
    "        model.add(Activation('relu'))\n",
    "        model.add(MaxPooling1D(7, padding='same'))\n",
    "        model.add(Conv1D(7, 2, padding='same', activation='relu'))\n",
    "        model.add(MaxPooling1D(3, padding='same'))\n",
    "\n",
    "        model.add(Flatten())\n",
    "        model.add(Dense(units=2, activation='softmax'))\n",
    "        model.compile(loss='mse', optimizer='adam', metrics=[\"accuracy\"])\n",
    "\n",
    "        # 学習\n",
    "        history = model.fit(X_train, y_train, epochs=10)\n",
    "        \n",
    "        # 評価結果（識別率）を格納\n",
    "        score = model.evaluate(X_test, y_test)\n",
    "        kCVscore[i] = score[1]\n",
    "        print(score[1])\n",
    "        i = i + 1"
   ]
  },
  {
   "cell_type": "code",
   "execution_count": 557,
   "metadata": {},
   "outputs": [
    {
     "data": {
      "text/plain": [
       "array([ 0.        ,  0.71428573,  1.        ])"
      ]
     },
     "execution_count": 557,
     "metadata": {},
     "output_type": "execute_result"
    }
   ],
   "source": [
    "kCVscore"
   ]
  },
  {
   "cell_type": "code",
   "execution_count": null,
   "metadata": {
    "collapsed": true
   },
   "outputs": [],
   "source": []
  }
 ],
 "metadata": {
  "kernelspec": {
   "display_name": "Python 3",
   "language": "python",
   "name": "python3"
  },
  "language_info": {
   "codemirror_mode": {
    "name": "ipython",
    "version": 3
   },
   "file_extension": ".py",
   "mimetype": "text/x-python",
   "name": "python",
   "nbconvert_exporter": "python",
   "pygments_lexer": "ipython3",
   "version": "3.6.1"
  }
 },
 "nbformat": 4,
 "nbformat_minor": 2
}
