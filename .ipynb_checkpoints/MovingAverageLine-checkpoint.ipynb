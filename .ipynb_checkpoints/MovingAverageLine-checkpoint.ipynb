{
 "cells": [
  {
   "cell_type": "markdown",
   "metadata": {},
   "source": [
    "# ノイズ除去のための移動平均線\n",
    "---\n",
    "  \n",
    "引数：raw_tap.csv/raw_rest.csvがあるディレクトリまでのパス  \n",
    "  \n",
    "---\n",
    "  \n",
    "入力：raw_tap.csv/raw_rest.csv  \n",
    "  \n",
    "---\n",
    "  \n",
    "出力：  \n",
    "* MAL[区間]_tap.csv：Tapping時のデータに移動平均線を用いることでノイズ除去をしたもの\n",
    "* MAL[区間]_rest.csv：Rest時のデータに移動平均線を用いることでノイズ除去をしたもの  \n",
    "* MAL[区間]_tap：Tappin時の各ボクセルの元データと移動平均線を重ねてプロットしたpngファイルを保存するディレクトリ\n",
    "* MAL[区間]_rest：Rest時の各ボクセルの元データと移動平均線を重ねてプロットしたpngファイルを保存するディレクトリ\n",
    "* /MAL[区間]_tap/voxel[ボクセル番号].png：Tapping時の各ボクセルの元データと移動平均線を重ねてプロットしたもの\n",
    "* /MAL[区間]_rest/voxel[ボクセル番号].png：Rest時の各ボクセルの元データと移動平均線を重ねてプロットしたもの\n",
    "  \n",
    "[区間]には移動平均線を求める際の区間数 変数section  \n",
    "[ボクセル番号]には列名にもあるボクセルの数\n",
    "  \n",
    "---  \n",
    "  \n",
    "Preprocessing_block.pyでまとめた，\n",
    "\n",
    "* Tapping時の複数ボクセル（raw_tap.csv）\n",
    "* Rest時の複数ボクセル（raw_rest.csv）\n",
    "  \n",
    "において，ノイズ除去をしたいものに対しては移動平均線（MAL : Moving Average Line）を用いる．"
   ]
  },
  {
   "cell_type": "code",
   "execution_count": 69,
   "metadata": {},
   "outputs": [
    {
     "name": "stdout",
     "output_type": "stream",
     "text": [
      "########## MovingAverageLine.py program excution ############\n"
     ]
    }
   ],
   "source": [
    "print('########## MovingAverageLine.py program excution ############')"
   ]
  },
  {
   "cell_type": "code",
   "execution_count": 70,
   "metadata": {
    "collapsed": true
   },
   "outputs": [],
   "source": [
    "import numpy as np\n",
    "import pandas as pd\n",
    "import sys\n",
    "import os\n",
    "import matplotlib.pyplot as plt\n",
    "\n",
    "# jupyter notebook以外はコメントアウト\n",
    "%matplotlib inline"
   ]
  },
  {
   "cell_type": "markdown",
   "metadata": {},
   "source": [
    "コマンドライン引数でtap_raw.csv/rest_raw.csvがあるディレクトリまでのパスを取得"
   ]
  },
  {
   "cell_type": "code",
   "execution_count": 71,
   "metadata": {
    "collapsed": true
   },
   "outputs": [],
   "source": [
    "#args = sys.argv\n",
    "#PATH = args[1]\n",
    "\n",
    "# jupyter notebookのときはここで指定\n",
    "PATH = '../tameshi/20170130ar/mb/'\n",
    "\n",
    "# 移動平均線で用いる区間\n",
    "section = 5"
   ]
  },
  {
   "cell_type": "markdown",
   "metadata": {},
   "source": [
    "## MAL関数\n",
    "引数としてmain関数で読み込んだデータをdata、移動平均線を用いる際の区間をsection，出力画像保存先のディレクトリ名をDIR_NAMEで受け取る．\n",
    "* 出力ファイル保存用のディレクトリを作成（ディレクトリ名：AveraveMovingLine + 区間数）\n",
    "* Rest, Tappingの各ボクセルごとの移動平均線を求めて元データとの比較用にplot --> pngで出力，上記ディレクトリに保存\n",
    "* Rest, Tappingの各ボクセルごとの移動平均線を求めて返す"
   ]
  },
  {
   "cell_type": "code",
   "execution_count": 72,
   "metadata": {
    "collapsed": true
   },
   "outputs": [],
   "source": [
    "def MAL(data, DIR_NAME):\n",
    "    \n",
    "    # 求めた移動平均線を格納するためのデータフレームを準備する\n",
    "    # =だけではコピー元の値も変わってしまうので、copy()を使う\n",
    "    MAL_data = data.copy()\n",
    "    \n",
    "    # ボクセル（列）の数だけ繰り返す\n",
    "    for i in range(len(data.columns)):\n",
    "        \n",
    "        # i番目のボクセルデータ抽出\n",
    "        voxel = MAL_data.iloc[:, i]\n",
    "        \n",
    "        # 移動平均線を求める\n",
    "        mal = pd.rolling_mean(voxel, section)\n",
    "        \n",
    "        # 求めた移動平均線を格納\n",
    "        MAL_data.iloc[:, i] = mal\n",
    "        \n",
    "        # この後に出力するpngファイル名\n",
    "        FILE_NAME = DIR_NAME + '/voxel' + str(i+1) + '.png'\n",
    "        \n",
    "        # 元データをplot\n",
    "        plt.plot(data.iloc[:, i])\n",
    "        \n",
    "        # 移動平均線を重ねて点線でplot\n",
    "        plt.plot(mal, linestyle=\"dashed\")\n",
    "        \n",
    "        # ファイル名をつけて保存，終了\n",
    "        plt.savefig(FILE_NAME)\n",
    "        plt.close()\n",
    "        \n",
    "        print(i)\n",
    "        \n",
    "    # 移動平均線を用いるとNaNが発生するので除去    \n",
    "    MAL_data = MAL_data.dropna()\n",
    "    \n",
    "    return MAL_data"
   ]
  },
  {
   "cell_type": "markdown",
   "metadata": {},
   "source": [
    "## main関数\n",
    "* tap_raw.csv/rest_raw.csv読み込み"
   ]
  },
  {
   "cell_type": "code",
   "execution_count": 73,
   "metadata": {},
   "outputs": [],
   "source": [
    "if __name__ == '__main__':\n",
    "    \n",
    "    \n",
    "    # 読み込みたいファイルのパス\n",
    "    PATH_rest = PATH + 'raw_rest.csv'\n",
    "    PATH_tap = PATH + 'raw_tap.csv'\n",
    "    \n",
    "    # csvファイル読み込み\n",
    "    rest = pd.read_csv(PATH_rest, header = 0)\n",
    "    tap = pd.read_csv(PATH_tap, header = 0)    "
   ]
  },
  {
   "cell_type": "code",
   "execution_count": 74,
   "metadata": {},
   "outputs": [
    {
     "name": "stderr",
     "output_type": "stream",
     "text": [
      "/Users/nakayamarina/.pyenv/versions/anaconda3-4.4.0/lib/python3.6/site-packages/ipykernel_launcher.py:14: FutureWarning: pd.rolling_mean is deprecated for Series and will be removed in a future version, replace with \n",
      "\tSeries.rolling(window=5,center=False).mean()\n",
      "  \n"
     ]
    },
    {
     "name": "stdout",
     "output_type": "stream",
     "text": [
      "0\n",
      "1\n",
      "2\n",
      "3\n",
      "4\n",
      "5\n",
      "6\n",
      "7\n",
      "8\n",
      "9\n"
     ]
    }
   ],
   "source": [
    "    # この後のMAL関数で出力するpngファイルの保存先ディレクトリ名\n",
    "    DIR_REST = PATH + 'MAL' + str(section) + '_rest'\n",
    "    \n",
    "    # すでに存在する場合は何もせず，存在していない場合はディレクトリ作成\n",
    "    if not os.path.exists(DIR_REST):\n",
    "        os.mkdir(DIR_REST)\n",
    "    \n",
    "    MAL_rest = MAL(rest, DIR_REST)"
   ]
  },
  {
   "cell_type": "code",
   "execution_count": 75,
   "metadata": {},
   "outputs": [
    {
     "name": "stderr",
     "output_type": "stream",
     "text": [
      "/Users/nakayamarina/.pyenv/versions/anaconda3-4.4.0/lib/python3.6/site-packages/ipykernel_launcher.py:14: FutureWarning: pd.rolling_mean is deprecated for Series and will be removed in a future version, replace with \n",
      "\tSeries.rolling(window=5,center=False).mean()\n",
      "  \n"
     ]
    },
    {
     "name": "stdout",
     "output_type": "stream",
     "text": [
      "0\n",
      "1\n",
      "2\n",
      "3\n",
      "4\n",
      "5\n",
      "6\n",
      "7\n",
      "8\n",
      "9\n"
     ]
    }
   ],
   "source": [
    "    # この後のMAL関数で出力するpngファイルの保存先ディレクトリ名\n",
    "    DIR_TAP = PATH + 'MAL' + str(section) + '_tap'\n",
    "    \n",
    "    # すでに存在する場合は何もせず，存在していない場合はディレクトリ作成\n",
    "    if not os.path.exists(DIR_TAP):\n",
    "        os.mkdir(DIR_TAP)\n",
    "    \n",
    "    MAL_tap = MAL(tap, DIR_TAP)"
   ]
  },
  {
   "cell_type": "code",
   "execution_count": 76,
   "metadata": {},
   "outputs": [],
   "source": [
    "    # csv書き出し\n",
    "    PATH_REST = PATH + 'MAL' + str(section) + '_rest.csv'\n",
    "    MAL_rest.to_csv(PATH_REST, index = False)\n",
    "    PATH_TAP = PATH + 'MAL' + str(section) + '_tap.csv'\n",
    "    MAL_tap.to_csv(PATH_TAP, index = False)"
   ]
  },
  {
   "cell_type": "code",
   "execution_count": null,
   "metadata": {
    "collapsed": true
   },
   "outputs": [],
   "source": []
  }
 ],
 "metadata": {
  "kernelspec": {
   "display_name": "Python 3",
   "language": "python",
   "name": "python3"
  },
  "language_info": {
   "codemirror_mode": {
    "name": "ipython",
    "version": 3
   },
   "file_extension": ".py",
   "mimetype": "text/x-python",
   "name": "python",
   "nbconvert_exporter": "python",
   "pygments_lexer": "ipython3",
   "version": "3.6.1"
  }
 },
 "nbformat": 4,
 "nbformat_minor": 2
}
