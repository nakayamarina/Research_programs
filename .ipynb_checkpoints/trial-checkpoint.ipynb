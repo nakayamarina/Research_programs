{
 "cells": [
  {
   "cell_type": "code",
   "execution_count": 27,
   "metadata": {},
   "outputs": [],
   "source": [
    "import numpy as np\n",
    "import pandas as pd\n",
    "import sys\n",
    "\n",
    "from sklearn import cross_validation\n",
    "from sklearn import svm\n",
    "from sklearn.model_selection import train_test_split"
   ]
  },
  {
   "cell_type": "code",
   "execution_count": 28,
   "metadata": {
    "collapsed": true
   },
   "outputs": [],
   "source": [
    "#args = sys.argv\n",
    "#PATH = args[1]\n",
    "\n",
    "# jupyter notebookのときはここで指定\n",
    "PATH = '../Data_block/20170130ar/12ch/RawData/'"
   ]
  },
  {
   "cell_type": "code",
   "execution_count": 29,
   "metadata": {
    "collapsed": true
   },
   "outputs": [],
   "source": [
    "# RawDataディレクトリかMALディレクトリか識別用\n",
    "DIRs = PATH.split(\"/\")\n",
    "DATA_NAME = DIRs[len(DIRs) - 2]\n",
    "\n",
    "# k-分割交差検証用\n",
    "k_list = [3, 5, 7]"
   ]
  },
  {
   "cell_type": "code",
   "execution_count": 46,
   "metadata": {},
   "outputs": [
    {
     "data": {
      "text/plain": [
       "SVC(C=1, cache_size=200, class_weight=None, coef0=0.0,\n",
       "  decision_function_shape='ovr', degree=3, gamma='auto', kernel='linear',\n",
       "  max_iter=-1, probability=False, random_state=None, shrinking=True,\n",
       "  tol=0.001, verbose=False)"
      ]
     },
     "execution_count": 46,
     "metadata": {},
     "output_type": "execute_result"
    }
   ],
   "source": [
    "file_rest = 'raw_rest.csv'\n",
    "file_tap = 'raw_tap.csv'\n",
    "\n",
    "# 読み込みたいファイルのパス\n",
    "PATH_rest = PATH + file_rest\n",
    "PATH_tap = PATH + file_tap\n",
    "\n",
    "# csvファイル読み込み\n",
    "rest = pd.read_csv(PATH_rest, header = 0)\n",
    "tap = pd.read_csv(PATH_tap, header = 0) \n",
    "\n",
    "if file_rest == 'raw_rest.csv':\n",
    "    rest = rest.T\n",
    "    tap = tap.T\n",
    "    \n",
    "all_data = pd.concat([rest, tap], axis = 0)\n",
    "\n",
    "X = all_data.as_matrix()\n",
    "\n",
    "label_rest = np.zeros(len(rest.index))\n",
    "label_tap = np.ones(len(tap.index))\n",
    "\n",
    "y = np.r_[label_rest, label_tap]\n",
    "\n",
    "\n",
    "X_test = X[0].reshape(1,-1)\n",
    "y_test = y[0].reshape(1,-1)\n",
    "\n",
    "X_train = np.delete(X, 0, 0)\n",
    "y_train = np.delete(y, 0, 0)\n",
    "\n",
    "model = svm.SVC(kernel = 'linear', C = 1)\n",
    "model.fit(X_train, y_train)"
   ]
  },
  {
   "cell_type": "code",
   "execution_count": 47,
   "metadata": {},
   "outputs": [
    {
     "data": {
      "text/plain": [
       "1.0"
      ]
     },
     "execution_count": 47,
     "metadata": {},
     "output_type": "execute_result"
    }
   ],
   "source": [
    "model.score(X_test, y_test)"
   ]
  },
  {
   "cell_type": "code",
   "execution_count": 48,
   "metadata": {},
   "outputs": [
    {
     "data": {
      "text/plain": [
       "array([[-2.0425  ,  0.32433 , -0.29306 , -0.16426 ,  0.85127 , -2.5792  ,\n",
       "        -0.35717 ,  0.92742 , -0.58025 ,  0.51986 ,  0.46279 ,  0.77611 ,\n",
       "        -2.6881  , -1.4153  , -1.5747  , -1.9026  , -1.2995  , -0.85198 ,\n",
       "        -1.8505  ,  0.34469 ,  2.0689  ,  0.66337 , -3.3713  , -1.555   ,\n",
       "        -1.5668  ,  0.9155  ,  0.37049 ,  0.49661 ,  0.14124 ,  1.5527  ,\n",
       "         1.0437  , -0.045403, -2.7015  , -1.8102  , -0.059245, -0.63481 ,\n",
       "        -0.69994 , -0.52683 ,  0.05415 ,  0.6326  ,  1.3444  , -0.22343 ,\n",
       "        -1.3509  , -1.4117  , -0.22949 ,  0.98347 ,  0.94287 ,  0.313   ,\n",
       "         0.50132 ,  0.50489 ,  0.58373 ,  0.12501 , -3.2737  , -0.59712 ,\n",
       "         1.3155  , -1.8977  , -0.062969,  0.84387 ,  0.35294 , -1.5313  ]])"
      ]
     },
     "execution_count": 48,
     "metadata": {},
     "output_type": "execute_result"
    }
   ],
   "source": []
  },
  {
   "cell_type": "code",
   "execution_count": null,
   "metadata": {
    "collapsed": true
   },
   "outputs": [],
   "source": []
  }
 ],
 "metadata": {
  "kernelspec": {
   "display_name": "Python 3",
   "language": "python",
   "name": "python3"
  },
  "language_info": {
   "codemirror_mode": {
    "name": "ipython",
    "version": 3
   },
   "file_extension": ".py",
   "mimetype": "text/x-python",
   "name": "python",
   "nbconvert_exporter": "python",
   "pygments_lexer": "ipython3",
   "version": "3.6.1"
  }
 },
 "nbformat": 4,
 "nbformat_minor": 2
}
