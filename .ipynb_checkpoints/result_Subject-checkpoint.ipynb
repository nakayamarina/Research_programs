{
 "cells": [
  {
   "cell_type": "code",
   "execution_count": 1,
   "metadata": {
    "collapsed": true
   },
   "outputs": [],
   "source": [
    "import numpy as np\n",
    "import pandas as pd\n",
    "import sys\n",
    "import os\n",
    "import matplotlib.pyplot as plt"
   ]
  },
  {
   "cell_type": "code",
   "execution_count": 55,
   "metadata": {
    "collapsed": true
   },
   "outputs": [],
   "source": [
    "#args = sys.argv\n",
    "#PATH = args[1]\n",
    "\n",
    "# jupyter notebookのときはここで指定\n",
    "PATH = '../Data_block/analysis_by_programs/20170130ar/'"
   ]
  },
  {
   "cell_type": "code",
   "execution_count": 96,
   "metadata": {
    "collapsed": true
   },
   "outputs": [],
   "source": [
    "DIR_ch = ['12ch/', '32ch/', 'mb/']\n",
    "DIR_data = ['RawData/', 'MAL3/', 'MAL5/', 'MAL7/']"
   ]
  },
  {
   "cell_type": "code",
   "execution_count": 141,
   "metadata": {
    "collapsed": true
   },
   "outputs": [],
   "source": [
    "l_R = []\n",
    "l_R_M3 = []\n",
    "l_R_M5 = []\n",
    "l_R_M7 = []\n",
    "l_F = []\n",
    "l_F_M3 = []\n",
    "l_F_M5 = []\n",
    "l_F_M7 = []\n",
    "\n",
    "k3_R = []\n",
    "k3_R_M3 = []\n",
    "k3_R_M5 = []\n",
    "k3_R_M7 = []\n",
    "k3_F = []\n",
    "k3_F_M3 = []\n",
    "k3_F_M5 = []\n",
    "k3_F_M7 = []\n",
    "\n",
    "k5_R = []\n",
    "k5_R_M3 = []\n",
    "k5_R_M5 = []\n",
    "k5_R_M7 = []\n",
    "k5_F = []\n",
    "k5_F_M3 = []\n",
    "k5_F_M5 = []\n",
    "k5_F_M7 = []\n",
    "\n",
    "k7_R = []\n",
    "k7_R_M3 = []\n",
    "k7_R_M5 = []\n",
    "k7_R_M7 = []\n",
    "k7_F = []\n",
    "k7_F_M3 = []\n",
    "k7_F_M5 = []\n",
    "k7_F_M7 = []"
   ]
  },
  {
   "cell_type": "code",
   "execution_count": 142,
   "metadata": {},
   "outputs": [
    {
     "name": "stdout",
     "output_type": "stream",
     "text": [
      "../Data_block/analysis_by_programs/20170130ar/12ch/RawData/ACCURACYpt[loo][3, 5, 7].csv\n",
      "R\n",
      "../Data_block/analysis_by_programs/20170130ar/12ch/MAL3/ACCURACYpt[loo][3, 5, 7].csv\n",
      "M3\n",
      "../Data_block/analysis_by_programs/20170130ar/12ch/MAL5/ACCURACYpt[loo][3, 5, 7].csv\n",
      "M5\n",
      "../Data_block/analysis_by_programs/20170130ar/12ch/MAL7/ACCURACYpt[loo][3, 5, 7].csv\n",
      "M7\n",
      "../Data_block/analysis_by_programs/20170130ar/32ch/RawData/ACCURACYpt[loo][3, 5, 7].csv\n",
      "R\n",
      "../Data_block/analysis_by_programs/20170130ar/32ch/MAL3/ACCURACYpt[loo][3, 5, 7].csv\n",
      "M3\n",
      "../Data_block/analysis_by_programs/20170130ar/32ch/MAL5/ACCURACYpt[loo][3, 5, 7].csv\n",
      "M5\n",
      "../Data_block/analysis_by_programs/20170130ar/32ch/MAL7/ACCURACYpt[loo][3, 5, 7].csv\n",
      "is not exist\n",
      "../Data_block/analysis_by_programs/20170130ar/mb/RawData/ACCURACYpt[loo][3, 5, 7].csv\n",
      "R\n",
      "../Data_block/analysis_by_programs/20170130ar/mb/MAL3/ACCURACYpt[loo][3, 5, 7].csv\n",
      "M3\n",
      "../Data_block/analysis_by_programs/20170130ar/mb/MAL5/ACCURACYpt[loo][3, 5, 7].csv\n",
      "M5\n",
      "../Data_block/analysis_by_programs/20170130ar/mb/MAL7/ACCURACYpt[loo][3, 5, 7].csv\n",
      "M7\n"
     ]
    }
   ],
   "source": [
    "for i in range(len(DIR_ch)):\n",
    "    \n",
    "    for k in range(len(DIR_data)):\n",
    "        \n",
    "        PATH_ac = PATH + DIR_ch[i] + DIR_data[k] + 'ACCURACYpt[loo][3, 5, 7].csv'\n",
    "        \n",
    "        print(PATH_ac)\n",
    "        \n",
    "        if not os.path.exists(PATH_ac):\n",
    "            \n",
    "            print('is not exist')\n",
    "            \n",
    "            if DIR_data[k] == 'RawData/':\n",
    "                \n",
    "                l_R.append(-1)\n",
    "                k3_R.append(-1)\n",
    "                k5_R.append(-1)\n",
    "                k7_R.append(-1)\n",
    "\n",
    "                l_F.append(-1)\n",
    "                k3_F.append(-1)\n",
    "                k5_F.append(-1)\n",
    "                k7_F.append(-1)\n",
    "                \n",
    "            elif DIR_data[k] == 'MAL3/':\n",
    "            \n",
    "                l_R_M3.append(-1)\n",
    "                k3_R_M3.append(-1)\n",
    "                k5_R_M3.append(-1)\n",
    "                k7_R_M3.append(-1)\n",
    "\n",
    "                l_F_M3.append(-1)\n",
    "                k3_F_M3.append(-1)\n",
    "                k5_F_M3.append(-1)\n",
    "                k7_F_M3.append(-1)\n",
    "                \n",
    "            elif DIR_data[k] == 'MAL5/':\n",
    "            \n",
    "                l_R_M5.append(-1)\n",
    "                k3_R_M5.append(-1)\n",
    "                k5_R_M5.append(-1)\n",
    "                k7_R_M5.append(-1)\n",
    "\n",
    "                l_F_M5.append(-1)\n",
    "                k3_F_M5.append(-1)\n",
    "                k5_F_M5.append(-1)\n",
    "                k7_F_M5.append(-1)\n",
    "            \n",
    "            elif DIR_data[k] == 'MAL7/':\n",
    "                l_R_M7.append(-1)\n",
    "                k3_R_M7.append(-1)\n",
    "                k5_R_M7.append(-1)\n",
    "                k7_R_M7.append(-1)\n",
    "\n",
    "                l_F_M7.append(-1)\n",
    "                k3_F_M7.append(-1)\n",
    "                k5_F_M7.append(-1)\n",
    "                k7_F_M7.append(-1)\n",
    "            \n",
    "            \n",
    "        else:\n",
    "            ac = pd.read_csv(PATH_ac, index_col = 0)\n",
    "\n",
    "        \n",
    "            if DIR_data[k] == 'RawData/':\n",
    "\n",
    "                print('R')\n",
    "                l_R.append(ac.iloc[0,0])\n",
    "                k3_R.append(ac.iloc[0,1])\n",
    "                k5_R.append(ac.iloc[0,2])\n",
    "                k7_R.append(ac.iloc[0,3])\n",
    "\n",
    "                l_F.append(ac.iloc[1,0])\n",
    "                k3_F.append(ac.iloc[1,1])\n",
    "                k5_F.append(ac.iloc[1,2])\n",
    "                k7_F.append(ac.iloc[1,3])\n",
    "\n",
    "            elif DIR_data[k] == 'MAL3/':\n",
    "                \n",
    "                print('M3')\n",
    "\n",
    "                l_R_M3.append(ac.iloc[0,0])\n",
    "                k3_R_M3.append(ac.iloc[0,1])\n",
    "                k5_R_M3.append(ac.iloc[0,2])\n",
    "                k7_R_M3.append(ac.iloc[0,3])\n",
    "\n",
    "                l_F_M3.append(ac.iloc[1,0])\n",
    "                k3_F_M3.append(ac.iloc[1,1])\n",
    "                k5_F_M3.append(ac.iloc[1,2])\n",
    "                k7_F_M3.append(ac.iloc[1,3])\n",
    "\n",
    "            elif DIR_data[k] == 'MAL5/':\n",
    "                \n",
    "                print('M5')\n",
    "\n",
    "                l_R_M5.append(ac.iloc[0,0])\n",
    "                k3_R_M5.append(ac.iloc[0,1])\n",
    "                k5_R_M5.append(ac.iloc[0,2])\n",
    "                k7_R_M5.append(ac.iloc[0,3])\n",
    "\n",
    "                l_F_M5.append(ac.iloc[1,0])\n",
    "                k3_F_M5.append(ac.iloc[1,1])\n",
    "                k5_F_M5.append(ac.iloc[1,2])\n",
    "                k7_F_M5.append(ac.iloc[1,3])\n",
    "\n",
    "            elif DIR_data[k] == 'MAL7/':\n",
    "                \n",
    "                print('M7')\n",
    "                \n",
    "                l_R_M7.append(ac.iloc[0,0])\n",
    "                k3_R_M7.append(ac.iloc[0,1])\n",
    "                k5_R_M7.append(ac.iloc[0,2])\n",
    "                k7_R_M7.append(ac.iloc[0,3])\n",
    "\n",
    "                l_F_M7.append(ac.iloc[1,0])\n",
    "                k3_F_M7.append(ac.iloc[1,1])\n",
    "                k5_F_M7.append(ac.iloc[1,2])\n",
    "                k7_F_M7.append(ac.iloc[1,3])\n",
    "\n",
    "\n",
    "\n",
    "\n"
   ]
  },
  {
   "cell_type": "code",
   "execution_count": 143,
   "metadata": {
    "collapsed": true
   },
   "outputs": [],
   "source": [
    "data_name = ['R', 'R_M3', 'R_M5', 'R_M7', 'F', 'F_M3', 'F_M5', 'F_M7']\n",
    "ch_name = ['12ch', '32ch', 'MB']"
   ]
  },
  {
   "cell_type": "code",
   "execution_count": 156,
   "metadata": {},
   "outputs": [],
   "source": [
    "loo = [l_R, l_R_M3, l_R_M5, l_R_M7, l_F, l_F_M3, l_F_M5, l_F_M7]\n",
    "\n",
    "loo = pd.DataFrame(loo)\n",
    "loo.columns = ch_name\n",
    "loo.index = data_name"
   ]
  },
  {
   "cell_type": "code",
   "execution_count": 157,
   "metadata": {},
   "outputs": [],
   "source": [
    "k3 = [k3_R, k3_R_M3, k3_R_M5, k3_R_M7, k3_F, k3_F_M3, k3_F_M5, k3_F_M7]\n",
    "\n",
    "k3 = pd.DataFrame(k3)\n",
    "k3.columns = ch_name\n",
    "k3.index = data_name"
   ]
  },
  {
   "cell_type": "code",
   "execution_count": 158,
   "metadata": {},
   "outputs": [],
   "source": [
    "k5 = [k5_R, k5_R_M3, k5_R_M5, k5_R_M7, k5_F, k5_F_M3, k5_F_M5, k5_F_M7]\n",
    "\n",
    "k5 = pd.DataFrame(k5)\n",
    "k5.columns = ch_name\n",
    "k5.index = data_name"
   ]
  },
  {
   "cell_type": "code",
   "execution_count": 159,
   "metadata": {},
   "outputs": [],
   "source": [
    "k7 = [k7_R, k7_R_M3, k7_R_M5, k7_R_M7, k7_F, k7_F_M3, k7_F_M5, k7_F_M7]\n",
    "\n",
    "k7 = pd.DataFrame(k7)\n",
    "k7.columns = ch_name\n",
    "k7.index = data_name"
   ]
  },
  {
   "cell_type": "code",
   "execution_count": 161,
   "metadata": {
    "collapsed": true
   },
   "outputs": [],
   "source": [
    "PATH_loo = PATH + 'result_loo.csv'\n",
    "loo.to_csv(PATH_loo)\n",
    "\n",
    "PATH_k3 = PATH + 'result_k3.csv'\n",
    "k3.to_csv(PATH_k3)\n",
    "\n",
    "PATH_k5 = PATH + 'result_k5.csv'\n",
    "k5.to_csv(PATH_k5)\n",
    "\n",
    "PATH_k7 = PATH + 'result_k7.csv'\n",
    "k7.to_csv(PATH_k7)"
   ]
  },
  {
   "cell_type": "code",
   "execution_count": null,
   "metadata": {
    "collapsed": true
   },
   "outputs": [],
   "source": []
  }
 ],
 "metadata": {
  "kernelspec": {
   "display_name": "Python 3",
   "language": "python",
   "name": "python3"
  },
  "language_info": {
   "codemirror_mode": {
    "name": "ipython",
    "version": 3
   },
   "file_extension": ".py",
   "mimetype": "text/x-python",
   "name": "python",
   "nbconvert_exporter": "python",
   "pygments_lexer": "ipython3",
   "version": "3.6.1"
  }
 },
 "nbformat": 4,
 "nbformat_minor": 2
}
