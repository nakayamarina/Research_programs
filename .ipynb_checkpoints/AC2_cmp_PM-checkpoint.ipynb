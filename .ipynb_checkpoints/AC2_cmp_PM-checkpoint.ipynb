{
 "cells": [
  {
   "cell_type": "markdown",
   "metadata": {},
   "source": [
    "# 識別率をまとめる"
   ]
  },
  {
   "cell_type": "markdown",
   "metadata": {},
   "source": [
    "指定したcsvファイルに記録されている識別率をまとめる  \n",
    "\n",
    "---  \n",
    "\n",
    "引数：Result[日付]ディレクトリまでパス\n",
    "  \n",
    "---\n",
    "  \n",
    "入力：まとめたい識別率が記録されたcsvファイルまでのパス  \n",
    "  \n",
    "---  \n",
    "  \n",
    "出力：全被験者の識別率平均をまとめたcsv，pngファイル  \n",
    "  \n",
    "---  \n",
    "全手法を比較（SPM, RAW data, TDA data 各パラメータのやつ）"
   ]
  },
  {
   "cell_type": "code",
   "execution_count": 51,
   "metadata": {
    "collapsed": true
   },
   "outputs": [],
   "source": [
    "import numpy as np\n",
    "import pandas as pd\n",
    "import sys\n",
    "import os\n",
    "\n",
    "# .pyで実行するときは%matplotlib inlineをコメントアウト！！！！\n",
    "import matplotlib.pyplot as plt\n",
    "%matplotlib inline"
   ]
  },
  {
   "cell_type": "code",
   "execution_count": 52,
   "metadata": {
    "collapsed": true
   },
   "outputs": [],
   "source": [
    "#args = sys.argv\n",
    "#PATH = args[1]\n"
   ]
  },
  {
   "cell_type": "code",
   "execution_count": 63,
   "metadata": {},
   "outputs": [],
   "source": [
    "# jupyter notebookのときはここで指定\n",
    "# 日付注意！！！！！！！！！！\n",
    "PATH_result = '../Data_tappingState-2fe_Active/Result0924/'\n",
    "\n",
    "files = os.listdir(PATH_result)\n",
    "\n",
    "ML = '1dCNN'\n",
    "strcol = ML + '_mean.csv'\n",
    "# csvName = PATH_result + 'ACCURACY[loo]_cmp_' + ML + '.csv'\n",
    "# pngName = PATH_result + 'ACCURACY[loo]_cmp_' + ML + '.png'\n",
    "csvName = PATH_result + 'ACCURACY_cmp_' + ML + '.csv'\n",
    "pngName = PATH_result + 'ACCURACY_cmp_' + ML + '.png'"
   ]
  },
  {
   "cell_type": "code",
   "execution_count": 64,
   "metadata": {},
   "outputs": [],
   "source": [
    "counter = 0\n",
    "\n",
    "for i in range(len(files)):\n",
    "    \n",
    "    if (strcol in files[i]):\n",
    "        \n",
    "        if counter == 0 :\n",
    "            \n",
    "            PATH = PATH_result + files[i]\n",
    "            cmp_ac = pd.read_csv(PATH, index_col = 0, header = 0)\n",
    "            \n",
    "            counter  = counter + 1\n",
    "            \n",
    "        else:\n",
    "            \n",
    "            PATH = PATH_result + files[i]\n",
    "            PM_ac = pd.read_csv(PATH, index_col = 0, header = 0)\n",
    "            \n",
    "            PM_ac = pd.DataFrame(PM_ac.iloc[:, 2])\n",
    "            \n",
    "            cmp_ac = pd.concat([cmp_ac, PM_ac], axis = 1)"
   ]
  },
  {
   "cell_type": "code",
   "execution_count": 65,
   "metadata": {
    "collapsed": true
   },
   "outputs": [],
   "source": [
    "cmp_ac.to_csv(csvName)"
   ]
  },
  {
   "cell_type": "code",
   "execution_count": 66,
   "metadata": {
    "collapsed": true
   },
   "outputs": [],
   "source": [
    "plt.figure()\n",
    "\n",
    "cmp_ac.plot.bar(color =  ['silver', 'lightblue', 'darkseagreen', 'moccasin', 'olive', 'crimson', 'slategray'],\n",
    "               width = 0.8, figsize = (16,9), rot = 0, fontsize = 15, legend='reverse',\n",
    "               yticks = [10,20,30,40,50,60,70,80,90,100])\n",
    "\n",
    "plt.savefig(pngName)\n",
    "\n",
    "plt.close('all')"
   ]
  },
  {
   "cell_type": "code",
   "execution_count": null,
   "metadata": {
    "collapsed": true
   },
   "outputs": [],
   "source": []
  },
  {
   "cell_type": "code",
   "execution_count": null,
   "metadata": {
    "collapsed": true
   },
   "outputs": [],
   "source": []
  }
 ],
 "metadata": {
  "kernelspec": {
   "display_name": "Python 3",
   "language": "python",
   "name": "python3"
  },
  "language_info": {
   "codemirror_mode": {
    "name": "ipython",
    "version": 3
   },
   "file_extension": ".py",
   "mimetype": "text/x-python",
   "name": "python",
   "nbconvert_exporter": "python",
   "pygments_lexer": "ipython3",
   "version": "3.6.1"
  }
 },
 "nbformat": 4,
 "nbformat_minor": 2
}
