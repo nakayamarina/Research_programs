{
 "cells": [
  {
   "cell_type": "markdown",
   "metadata": {},
   "source": [
    "# SVMによる学習と識別性能評価（生データ+SPM（パターン））"
   ]
  },
  {
   "cell_type": "markdown",
   "metadata": {},
   "source": [
    "---\n",
    "  \n",
    "引数：raw_rest.csv/raw_tap.csvファイルがあるディレクトリまでのパス  \n",
    "  \n",
    "---\n",
    "  \n",
    "入力：raw_rest.csv/raw_tap.csv\n",
    "\n",
    "---\n",
    "  \n",
    "出力：ACCURACY[k_cv]_SVM_SVM.csv　識別性能評価\n",
    "\n",
    "---  \n",
    "\n",
    "各ボクセルの値をベクトルとしてSVMを用いて学習，交差検証法（kー分割交差検証）を用いて識別性能評価を行う．\n"
   ]
  },
  {
   "cell_type": "code",
   "execution_count": 3,
   "metadata": {},
   "outputs": [],
   "source": [
    "import numpy as np\n",
    "import pandas as pd\n",
    "import sys\n",
    "\n",
    "from sklearn import cross_validation\n",
    "from sklearn import svm\n",
    "from sklearn.model_selection import train_test_split"
   ]
  },
  {
   "cell_type": "markdown",
   "metadata": {},
   "source": [
    "コマンドライン引数でraw_rest.csv/raw_tap.csvファイルがあるディレクトリまでのパスを取得"
   ]
  },
  {
   "cell_type": "code",
   "execution_count": 4,
   "metadata": {
    "collapsed": true
   },
   "outputs": [],
   "source": [
    "#args = sys.argv\n",
    "#PATH = args[1]\n",
    "\n",
    "# jupyter notebookのときはここで指定\n",
    "PATH = '../Data_tappingState-2fe_Active/analysis_by_programs/20171020rn/12ch/RawData/'\n",
    "\n",
    "# 機械学習するデータ（提案手法でベクトル化したcsvファイル）\n",
    "ML_restData = 'raw_rest.csv'\n",
    "ML_tapData = 'raw_tap.csv'\n",
    "\n",
    "# 出力するデータの行名，ファイル名\n",
    "outputIndex = 'SPM + SVM'\n",
    "outputFile = 'SPM'\n"
   ]
  },
  {
   "cell_type": "markdown",
   "metadata": {},
   "source": [
    "## SVM_kCV関数"
   ]
  },
  {
   "cell_type": "markdown",
   "metadata": {},
   "source": [
    "引数としてTrainingData関数で作成した教師データをX，ラベルをy，データ分割数をkで受け取る．  \n",
    "交差検証法の一つk-分割交差検証で識別精度評価を行う．\n",
    "\n",
    "* 学習\n",
    "* (k分割し，1グループをテストデータ，残りグループを教師データにして評価) * k\n",
    "* 得られたk個の評価結果（識別率）の平均を求めてパーセントに直す\n",
    "* 評価結果（識別率）をTrainingData関数に返す"
   ]
  },
  {
   "cell_type": "code",
   "execution_count": 5,
   "metadata": {
    "collapsed": true
   },
   "outputs": [],
   "source": [
    "def SVM_kCV(X, y, k):\n",
    "    \n",
    "    # 線形SVMのインスタンスを生成\n",
    "    model = svm.SVC(kernel = 'linear', C = 1)\n",
    "    \n",
    "    # k分割し，1グループをテストデータ，残りグループを教師データにして評価\n",
    "    # すべてのグループに対して行う\n",
    "    # 評価結果（識別率）を格納\n",
    "    CVscore = cross_validation.cross_val_score(model, X, y, cv = k)\n",
    "    \n",
    "    # 評価結果（識別率）の平均を求める\n",
    "    result = CVscore.mean()\n",
    "    \n",
    "    # パーセントに直す\n",
    "    result = round(result * 100, 1)\n",
    "\n",
    "    print('k = ' + str(k) + '：' + str(CVscore))\n",
    "    \n",
    "    return result\n",
    "    "
   ]
  },
  {
   "cell_type": "markdown",
   "metadata": {},
   "source": [
    "## TrainingData関数 \n",
    "引数として読み込みたいTapping/Restのそれぞれのファイル名をfile_tap/file_restで受け取る． \n",
    "* 機械学習にかけれるようにデータのベクトル化とラベルを作成\n",
    "* データとラベルをSVM_LOO関数に渡す\n",
    "* 帰ってきた識別率をmain関数に返す"
   ]
  },
  {
   "cell_type": "code",
   "execution_count": 10,
   "metadata": {
    "collapsed": true
   },
   "outputs": [],
   "source": [
    "def TrainingData(file_rest, file_tap):\n",
    "    \n",
    "    # 読み込みたいファイルのパス\n",
    "    PATH_rest = PATH + file_rest\n",
    "    PATH_tap = PATH + file_tap\n",
    "\n",
    "    # csvファイル読み込み\n",
    "    rest = pd.read_csv(PATH_rest, header = 0)\n",
    "    tap = pd.read_csv(PATH_tap, header = 0) \n",
    "    \n",
    "    # ラベル作成用\n",
    "    label_rest = np.zeros(len(rest.index))\n",
    "    label_tap = np.ones(len(tap.index))\n",
    "\n",
    "\n",
    "    # ベクトル化＆ラベル作成\n",
    "\n",
    "    for i in range(rest.shape[1]):\n",
    "\n",
    "        # RestとTappingのデータをまとめる\n",
    "        if(i == 0):\n",
    "\n",
    "            rest_df = pd.DataFrame(rest.iloc[:,i])\n",
    "            tap_df = pd.DataFrame(tap.iloc[:,i])\n",
    "\n",
    "            all_data = pd.concat([rest_df, tap_df], axis = 0)\n",
    "\n",
    "            all_data.columns = ['Voxel']\n",
    "\n",
    "            #ラベル\n",
    "            y = np.r_[label_rest, label_tap]\n",
    "\n",
    "        else:\n",
    "\n",
    "            rest_df = pd.DataFrame(rest.iloc[:,i])\n",
    "            tap_df = pd.DataFrame(tap.iloc[:,i])                      \n",
    "\n",
    "            new_data = pd.concat([rest_df, tap_df], axis = 0)\n",
    "            new_data.columns = ['Voxel']\n",
    "\n",
    "            all_data = pd.concat([all_data, new_data], axis = 0)\n",
    "\n",
    "            #ラベル\n",
    "            y = np.r_[y, label_rest]\n",
    "            y = np.r_[y, label_tap]\n",
    "\n",
    "    # ベクトル化        \n",
    "    X = all_data.as_matrix()\n",
    "    \n",
    "    cv_k = rest.shape[0] * 2\n",
    "    \n",
    "    print('k-hold Cross-Validation')\n",
    "    \n",
    "    col_name = 'k = ' + str(cv_k)\n",
    "        \n",
    "    #print(col_name)\n",
    "        \n",
    "    # SVM_CV関数\n",
    "    result_CV = SVM_kCV(X, y, i)\n",
    "    \n",
    "    # 評価結果（識別率）をデータフレームに変換・格納\n",
    "    ac = pd.DataFrame({col_name : [result_CV] })\n",
    "    \n",
    "    return ac\n",
    "\n",
    "    "
   ]
  },
  {
   "cell_type": "markdown",
   "metadata": {},
   "source": [
    "## main関数"
   ]
  },
  {
   "cell_type": "code",
   "execution_count": 9,
   "metadata": {},
   "outputs": [
    {
     "name": "stdout",
     "output_type": "stream",
     "text": [
      "\n",
      "--------- SPM + SVM Data ---------\n",
      "k-hold Cross-Validation\n",
      "k = 9：[ 0.58411215  0.53271028  0.58878505  0.55607477  0.57009346  0.56542056\n",
      "  0.57075472  0.50943396  0.50471698]\n",
      "\n",
      "   k = 192\n",
      "0     55.4\n"
     ]
    }
   ],
   "source": [
    "if __name__ == '__main__':\n",
    "    \n",
    "    # 識別率を算出\n",
    "\n",
    "    print('\\n--------- ' + outputIndex + ' Data ---------')\n",
    "    PS_result = TrainingData(ML_restData, ML_tapData)\n",
    "    print('\\n' + str(PS_result))\n",
    "    \n",
    "    \n",
    "    # インデックス名をつける\n",
    "    result_index = [outputIndex]\n",
    "    PS_result.index = result_index\n",
    "    \n",
    "    # csv書き出し\n",
    "    PATH_RESULT = PATH + 'ACCURACY[k_cv]_' + outputFile + '_SVM.csv'\n",
    "    PS_result.to_csv(PATH_RESULT, index = True)"
   ]
  },
  {
   "cell_type": "code",
   "execution_count": null,
   "metadata": {
    "collapsed": true
   },
   "outputs": [],
   "source": []
  },
  {
   "cell_type": "code",
   "execution_count": null,
   "metadata": {
    "collapsed": true
   },
   "outputs": [],
   "source": []
  }
 ],
 "metadata": {
  "kernelspec": {
   "display_name": "Python 3",
   "language": "python",
   "name": "python3"
  },
  "language_info": {
   "codemirror_mode": {
    "name": "ipython",
    "version": 3
   },
   "file_extension": ".py",
   "mimetype": "text/x-python",
   "name": "python",
   "nbconvert_exporter": "python",
   "pygments_lexer": "ipython3",
   "version": "3.6.1"
  }
 },
 "nbformat": 4,
 "nbformat_minor": 2
}
