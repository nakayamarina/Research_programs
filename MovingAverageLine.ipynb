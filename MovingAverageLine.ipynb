{
 "cells": [
  {
   "cell_type": "markdown",
   "metadata": {},
   "source": [
    "# ノイズ除去のための移動平均線\n",
    "---\n",
    "  \n",
    "引数：raw_tap.csv/raw_rest.csvがあるディレクトリまでのパス  \n",
    "  \n",
    "---\n",
    "  \n",
    "入力：raw_tap.csv/raw_rest.csv  \n",
    "  \n",
    "---\n",
    "  \n",
    "出力：  \n",
    "* MAL[区間]/raw_tap.csv：Tapping時のデータに移動平均線を用いることでノイズ除去をしたもの\n",
    "* MAL[区間]/raw_rest.csv：Rest時のデータに移動平均線を用いることでノイズ除去をしたもの  \n",
    "* MAL[区間]/MAL_image/voxel[ボクセル番号]_Tapping.png：Tapping時の各ボクセルの元データと移動平均線を重ねてプロットしたもの\n",
    "* MAL[区間]/MAL_image/voxel[ボクセル番号]_Rest.png：Rest時の各ボクセルの元データと移動平均線を重ねてプロットしたもの\n",
    "  \n",
    "[区間]には移動平均線を求める際の区間数 変数section  \n",
    "[ボクセル番号]には列名にもあるボクセルの数\n",
    "  \n",
    "---  \n",
    "  \n",
    "Preprocessing_block.pyでまとめた，\n",
    "\n",
    "* Tapping時の複数ボクセル（raw_tap.csv）\n",
    "* Rest時の複数ボクセル（raw_rest.csv）\n",
    "  \n",
    "において，ノイズ除去をしたいものに対しては移動平均線（MAL : Moving Average Line）を用いる．"
   ]
  },
  {
   "cell_type": "code",
   "execution_count": 131,
   "metadata": {},
   "outputs": [
    {
     "name": "stdout",
     "output_type": "stream",
     "text": [
      "########## MovingAverageLine.py program excution ############\n"
     ]
    }
   ],
   "source": [
    "print('########## MovingAverageLine.py program excution ############')"
   ]
  },
  {
   "cell_type": "code",
   "execution_count": 132,
   "metadata": {
    "collapsed": true
   },
   "outputs": [],
   "source": [
    "import numpy as np\n",
    "import pandas as pd\n",
    "import sys\n",
    "import os\n",
    "import matplotlib.pyplot as plt\n",
    "\n",
    "# jupyter notebook以外はコメントアウト\n",
    "%matplotlib inline"
   ]
  },
  {
   "cell_type": "markdown",
   "metadata": {},
   "source": [
    "コマンドライン引数でtap_raw.csv/rest_raw.csvがあるディレクトリまでのパスを取得"
   ]
  },
  {
   "cell_type": "code",
   "execution_count": 133,
   "metadata": {
    "collapsed": true
   },
   "outputs": [],
   "source": [
    "#args = sys.argv\n",
    "#PATH = args[1]\n",
    "\n",
    "# jupyter notebookのときはここで指定\n",
    "PATH = '../Data_block/20170130ar/mb/RawData/'\n",
    "\n",
    "# 移動平均線で用いる区間\n",
    "section = 5"
   ]
  },
  {
   "cell_type": "markdown",
   "metadata": {},
   "source": [
    "後で出力するcsvファイルを保存するディレクトリ（MAL[区間]）、pngファイルを保存するディレクトリ（MAL_image）を作成"
   ]
  },
  {
   "cell_type": "code",
   "execution_count": 139,
   "metadata": {
    "collapsed": true
   },
   "outputs": [],
   "source": [
    "# MAL[区間]のディレクトリ名・パス\n",
    "DIR_MAL = PATH + '../MAL' + str(section)\n",
    "PATH_MAL = DIR_MAL + '/'\n",
    "\n",
    "# すでに存在する場合は何もせず，存在していない場合はディレクトリ作成\n",
    "if not os.path.exists(DIR_MAL):\n",
    "    os.mkdir(DIR_MAL)\n",
    "    \n",
    "# MAL_imageのディレクトリ名・パス\n",
    "DIR_image = PATH_MAL + 'MAL_image'\n",
    "PATH_image = DIR_image + '/'\n",
    "\n",
    "# すでに存在する場合は何もせず，存在していない場合はディレクトリ作成\n",
    "if not os.path.exists(DIR_image):\n",
    "    os.mkdir(DIR_image)    "
   ]
  },
  {
   "cell_type": "markdown",
   "metadata": {},
   "source": [
    "## MAL関数\n",
    "引数としてmain関数で読み込んだデータをdata、移動平均線を用いる際の区間をsection，出力画像保存先のディレクトリ名をDIR_NAMEで受け取る．\n",
    "* 出力ファイル保存用のディレクトリを作成（ディレクトリ名：AveraveMovingLine + 区間数）\n",
    "* Rest, Tappingの各ボクセルごとの移動平均線を求めて元データとの比較用にplot --> pngで出力，上記ディレクトリに保存\n",
    "* Rest, Tappingの各ボクセルごとの移動平均線を求めて返す"
   ]
  },
  {
   "cell_type": "code",
   "execution_count": 135,
   "metadata": {
    "collapsed": true
   },
   "outputs": [],
   "source": [
    "def MAL(data, task):\n",
    "    \n",
    "    # 求めた移動平均線を格納するためのデータフレームを準備する\n",
    "    # =だけではコピー元の値も変わってしまうので、copy()を使う\n",
    "    MAL_data = data.copy()\n",
    "    \n",
    "    # ボクセル（列）の数だけ繰り返す\n",
    "    for i in range(len(data.columns)):\n",
    "        \n",
    "        # i番目のボクセルデータ抽出\n",
    "        voxel = MAL_data.iloc[:, i]\n",
    "        \n",
    "        # 移動平均線を求める\n",
    "        mal = pd.rolling_mean(voxel, section)\n",
    "        \n",
    "        # 求めた移動平均線を格納\n",
    "        MAL_data.iloc[:, i] = mal\n",
    "        \n",
    "        \n",
    "        \n",
    "        # この後に出力するpngファイル名\n",
    "        FILE_NAME = DIR_image + '/voxel' + str(i+1) + '_' + task + '.png'\n",
    "        \n",
    "        # 元データをplot\n",
    "        plt.plot(data.iloc[:, i], label = 'fMRIdata')\n",
    "        \n",
    "        # 移動平均線のグラフのラベル\n",
    "        label_MAL = 'Moving Average Line (' + str(section) + ')'\n",
    "        \n",
    "        # 移動平均線を重ねて点線でplot\n",
    "        plt.plot(mal, linestyle=\"dashed\", label = label_MAL)\n",
    "        \n",
    "        # グラフのタイトル\n",
    "        graph_name = 'fMRIdata : ' + task + '-voxel' + str(i+1) \n",
    "        plt.title(graph_name)\n",
    "        \n",
    "        # グラフの凡例\n",
    "        plt.legend()\n",
    "        \n",
    "        \n",
    "        # ファイル名をつけて保存，終了\n",
    "        plt.savefig(FILE_NAME)\n",
    "        plt.close()\n",
    "        \n",
    "        print(FILE_NAME)\n",
    "        \n",
    "    # 移動平均線を用いるとNaNが発生するので除去    \n",
    "    MAL_data = MAL_data.dropna()\n",
    "    \n",
    "    return MAL_data"
   ]
  },
  {
   "cell_type": "markdown",
   "metadata": {},
   "source": [
    "## main関数\n",
    "* tap_raw.csv/rest_raw.csv読み込み"
   ]
  },
  {
   "cell_type": "code",
   "execution_count": 136,
   "metadata": {
    "collapsed": true
   },
   "outputs": [],
   "source": [
    "if __name__ == '__main__':\n",
    "    \n",
    "    \n",
    "    # 読み込みたいファイルのパス\n",
    "    PATH_rest = PATH + 'raw_rest.csv'\n",
    "    PATH_tap = PATH + 'raw_tap.csv'\n",
    "    \n",
    "    # csvファイル読み込み\n",
    "    rest = pd.read_csv(PATH_rest, header = 0)\n",
    "    tap = pd.read_csv(PATH_tap, header = 0)    "
   ]
  },
  {
   "cell_type": "code",
   "execution_count": 137,
   "metadata": {},
   "outputs": [
    {
     "name": "stderr",
     "output_type": "stream",
     "text": [
      "/Users/nakayamarina/.pyenv/versions/anaconda3-4.4.0/lib/python3.6/site-packages/ipykernel_launcher.py:14: FutureWarning: pd.rolling_mean is deprecated for Series and will be removed in a future version, replace with \n",
      "\tSeries.rolling(window=5,center=False).mean()\n",
      "  \n"
     ]
    },
    {
     "name": "stdout",
     "output_type": "stream",
     "text": [
      "../tameshi/20170130ar/mb/RawData/../MAL5/MAL_image/voxel1_Rest.png\n",
      "../tameshi/20170130ar/mb/RawData/../MAL5/MAL_image/voxel2_Rest.png\n",
      "../tameshi/20170130ar/mb/RawData/../MAL5/MAL_image/voxel3_Rest.png\n",
      "../tameshi/20170130ar/mb/RawData/../MAL5/MAL_image/voxel4_Rest.png\n",
      "../tameshi/20170130ar/mb/RawData/../MAL5/MAL_image/voxel5_Rest.png\n",
      "../tameshi/20170130ar/mb/RawData/../MAL5/MAL_image/voxel6_Rest.png\n",
      "../tameshi/20170130ar/mb/RawData/../MAL5/MAL_image/voxel7_Rest.png\n",
      "../tameshi/20170130ar/mb/RawData/../MAL5/MAL_image/voxel8_Rest.png\n",
      "../tameshi/20170130ar/mb/RawData/../MAL5/MAL_image/voxel9_Rest.png\n",
      "../tameshi/20170130ar/mb/RawData/../MAL5/MAL_image/voxel10_Rest.png\n",
      "../tameshi/20170130ar/mb/RawData/../MAL5/MAL_image/voxel1_Tapping.png\n",
      "../tameshi/20170130ar/mb/RawData/../MAL5/MAL_image/voxel2_Tapping.png\n",
      "../tameshi/20170130ar/mb/RawData/../MAL5/MAL_image/voxel3_Tapping.png\n",
      "../tameshi/20170130ar/mb/RawData/../MAL5/MAL_image/voxel4_Tapping.png\n",
      "../tameshi/20170130ar/mb/RawData/../MAL5/MAL_image/voxel5_Tapping.png\n",
      "../tameshi/20170130ar/mb/RawData/../MAL5/MAL_image/voxel6_Tapping.png\n",
      "../tameshi/20170130ar/mb/RawData/../MAL5/MAL_image/voxel7_Tapping.png\n",
      "../tameshi/20170130ar/mb/RawData/../MAL5/MAL_image/voxel8_Tapping.png\n",
      "../tameshi/20170130ar/mb/RawData/../MAL5/MAL_image/voxel9_Tapping.png\n",
      "../tameshi/20170130ar/mb/RawData/../MAL5/MAL_image/voxel10_Tapping.png\n"
     ]
    }
   ],
   "source": [
    "    MAL_rest = MAL(rest, 'Rest')\n",
    "    \n",
    "    MAL_tap = MAL(tap, 'Tapping')"
   ]
  },
  {
   "cell_type": "code",
   "execution_count": 138,
   "metadata": {
    "collapsed": true
   },
   "outputs": [],
   "source": [
    "    # csv書き出し\n",
    "    PATH_REST = PATH_MAL + 'raw_rest.csv'\n",
    "    MAL_rest.to_csv(PATH_REST, index = False)\n",
    "    PATH_TAP = PATH_MAL + 'raw_tap.csv'\n",
    "    MAL_tap.to_csv(PATH_TAP, index = False)"
   ]
  },
  {
   "cell_type": "code",
   "execution_count": null,
   "metadata": {
    "collapsed": true
   },
   "outputs": [],
   "source": []
  }
 ],
 "metadata": {
  "kernelspec": {
   "display_name": "Python 3",
   "language": "python",
   "name": "python3"
  },
  "language_info": {
   "codemirror_mode": {
    "name": "ipython",
    "version": 3
   },
   "file_extension": ".py",
   "mimetype": "text/x-python",
   "name": "python",
   "nbconvert_exporter": "python",
   "pygments_lexer": "ipython3",
   "version": "3.6.1"
  }
 },
 "nbformat": 4,
 "nbformat_minor": 2
}
