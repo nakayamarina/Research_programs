{
 "cells": [
  {
   "cell_type": "code",
   "execution_count": 501,
   "metadata": {},
   "outputs": [],
   "source": [
    "import pandas as pd\n",
    "import sys\n",
    "\n",
    "import numpy as np\n",
    "from keras.models import Sequential\n",
    "from keras.layers import Dense, Dropout, Activation, Flatten\n",
    "%matplotlib inline\n",
    "import matplotlib.pyplot as plt\n",
    "from keras.layers.convolutional import Conv1D, UpSampling1D\n",
    "from keras.layers.pooling import MaxPooling1D\n",
    "from keras.utils import np_utils\n",
    "\n",
    "from sklearn.model_selection import KFold\n",
    "from sklearn.model_selection import train_test_split\n"
   ]
  },
  {
   "cell_type": "code",
   "execution_count": 413,
   "metadata": {
    "collapsed": true
   },
   "outputs": [],
   "source": [
    "#args = sys.argv\n",
    "#PATH = args[1]\n",
    "\n",
    "# jupyter notebookのときはここで指定\n",
    "PATH = '../Data_block/analysis_by_programs/20170130ar/12ch/MAL5/'\n",
    "\n"
   ]
  },
  {
   "cell_type": "code",
   "execution_count": 551,
   "metadata": {},
   "outputs": [],
   "source": [
    "# file_rest = 'TDAvec_autocor_rest.csv'\n",
    "# file_tap = 'TDAvec_autocor_tap.csv'\n",
    "\n",
    "file_rest = 'raw_rest.csv'\n",
    "file_tap = 'raw_tap.csv'\n",
    "\n",
    "# 読み込みたいファイルのパス\n",
    "PATH_rest = PATH + file_rest\n",
    "PATH_tap = PATH + file_tap\n",
    "\n",
    "# csvファイル読み込み\n",
    "rest = pd.read_csv(PATH_rest, header = 0)\n",
    "tap = pd.read_csv(PATH_tap, header = 0) \n",
    "\n",
    "rest = rest.T\n",
    "tap = tap.T\n",
    "\n",
    "# RestとTappingのデータをまとめる\n",
    "all_data = pd.concat([rest, tap], axis = 0)\n",
    "\n",
    "# ベクトル化\n",
    "X = all_data.as_matrix()\n",
    "\n",
    "# ラベル作成\n",
    "label_rest = np.zeros(len(rest.index))\n",
    "label_tap = np.ones(len(tap.index))\n",
    "\n",
    "y = np.r_[label_rest, label_tap]\n",
    "\n",
    "k = 3"
   ]
  },
  {
   "cell_type": "code",
   "execution_count": 562,
   "metadata": {},
   "outputs": [
    {
     "name": "stdout",
     "output_type": "stream",
     "text": [
      "0\n",
      "Epoch 1/10\n",
      "13/13 [==============================] - 1s 103ms/step - loss: 0.2369 - acc: 0.7692\n",
      "Epoch 2/10\n",
      "13/13 [==============================] - 0s 428us/step - loss: 0.2352 - acc: 0.7692\n",
      "Epoch 3/10\n",
      "13/13 [==============================] - 0s 424us/step - loss: 0.2334 - acc: 0.7692\n",
      "Epoch 4/10\n",
      "13/13 [==============================] - 0s 360us/step - loss: 0.2317 - acc: 0.8462\n",
      "Epoch 5/10\n",
      "13/13 [==============================] - 0s 440us/step - loss: 0.2300 - acc: 0.8462\n",
      "Epoch 6/10\n",
      "13/13 [==============================] - 0s 365us/step - loss: 0.2282 - acc: 0.9231\n",
      "Epoch 7/10\n",
      "13/13 [==============================] - 0s 542us/step - loss: 0.2265 - acc: 0.8462\n",
      "Epoch 8/10\n",
      "13/13 [==============================] - 0s 547us/step - loss: 0.2249 - acc: 0.8462\n",
      "Epoch 9/10\n",
      "13/13 [==============================] - 0s 385us/step - loss: 0.2233 - acc: 0.8462\n",
      "Epoch 10/10\n",
      "13/13 [==============================] - 0s 366us/step - loss: 0.2217 - acc: 0.8462\n",
      "7/7 [==============================] - 1s 110ms/step\n",
      "0.142857149243\n",
      "1\n",
      "Epoch 1/10\n",
      "13/13 [==============================] - 1s 105ms/step - loss: 0.3021 - acc: 0.4615\n",
      "Epoch 2/10\n",
      "13/13 [==============================] - 0s 314us/step - loss: 0.2994 - acc: 0.4615\n",
      "Epoch 3/10\n",
      "13/13 [==============================] - 0s 391us/step - loss: 0.2968 - acc: 0.4615\n",
      "Epoch 4/10\n",
      "13/13 [==============================] - 0s 420us/step - loss: 0.2943 - acc: 0.4615\n",
      "Epoch 5/10\n",
      "13/13 [==============================] - 0s 418us/step - loss: 0.2919 - acc: 0.4615\n",
      "Epoch 6/10\n",
      "13/13 [==============================] - 0s 412us/step - loss: 0.2895 - acc: 0.4615\n",
      "Epoch 7/10\n",
      "13/13 [==============================] - 0s 323us/step - loss: 0.2872 - acc: 0.4615\n",
      "Epoch 8/10\n",
      "13/13 [==============================] - 0s 318us/step - loss: 0.2849 - acc: 0.4615\n",
      "Epoch 9/10\n",
      "13/13 [==============================] - 0s 331us/step - loss: 0.2827 - acc: 0.4615\n",
      "Epoch 10/10\n",
      "13/13 [==============================] - 0s 359us/step - loss: 0.2805 - acc: 0.4615\n",
      "7/7 [==============================] - 1s 85ms/step\n",
      "0.571428596973\n",
      "2\n",
      "Epoch 1/10\n",
      "14/14 [==============================] - 1s 104ms/step - loss: 0.2193 - acc: 0.6429\n",
      "Epoch 2/10\n",
      "14/14 [==============================] - 0s 461us/step - loss: 0.2164 - acc: 0.7143\n",
      "Epoch 3/10\n",
      "14/14 [==============================] - 0s 465us/step - loss: 0.2134 - acc: 0.8571\n",
      "Epoch 4/10\n",
      "14/14 [==============================] - 0s 371us/step - loss: 0.2104 - acc: 0.8571\n",
      "Epoch 5/10\n",
      "14/14 [==============================] - 0s 466us/step - loss: 0.2075 - acc: 0.8571\n",
      "Epoch 6/10\n",
      "14/14 [==============================] - 0s 457us/step - loss: 0.2047 - acc: 0.9286\n",
      "Epoch 7/10\n",
      "14/14 [==============================] - 0s 447us/step - loss: 0.2018 - acc: 0.9286\n",
      "Epoch 8/10\n",
      "14/14 [==============================] - 0s 405us/step - loss: 0.1991 - acc: 0.9286\n",
      "Epoch 9/10\n",
      "14/14 [==============================] - 0s 456us/step - loss: 0.1964 - acc: 1.0000\n",
      "Epoch 10/10\n",
      "14/14 [==============================] - 0s 405us/step - loss: 0.1937 - acc: 1.0000\n",
      "6/6 [==============================] - 1s 100ms/step\n",
      "1.0\n"
     ]
    }
   ],
   "source": [
    "    \n",
    "    # 識別率を格納する配列\n",
    "    kCVscore = np.zeros(k)\n",
    "    \n",
    "    # ベクトルの長さを格納しておく\n",
    "    bach_size = X.shape[1]\n",
    "    \n",
    "    # 分割数\n",
    "    kf = KFold(n_splits=k, shuffle=False)\n",
    "    # 繰り返し回数\n",
    "    i = 0\n",
    "\n",
    "    for train_index, eval_index in kf.split(X):\n",
    "        \n",
    "        print(i)\n",
    "        \n",
    "        X_train, X_test = X[train_index], X[eval_index]\n",
    "        y_train, y_test = y[train_index], y[eval_index]\n",
    "\n",
    "        # （データ数, ベクトルの長さ，1）という形にリシェイプする\n",
    "        X_train = np.reshape(X_train, (-1, bach_size, 1))\n",
    "        X_test = np.reshape(X_test, (-1, bach_size, 1))\n",
    "\n",
    "        # ダミー変数に変換\n",
    "        y_train = np_utils.to_categorical(y_train, 2)\n",
    "        y_test = np_utils.to_categorical(y_test ,2)\n",
    "\n",
    "        # 1次元CNNのインスタンスを作成\n",
    "        # 参考文献（Time series classification via TDA）に従ってパラメータを設定\n",
    "        # 1st Conv1d : kernel_number = 7, kernel_size = 6\n",
    "        # 1st MacPooling : kernel_number = 7\n",
    "        # 2nd Conv1d : kernel_number = 7, kernel_size = 2\n",
    "        # 2nd MacPooling : kernel_number = 3\n",
    "        # Flattenで1次元に\n",
    "        model = Sequential()\n",
    "        model.add(Conv1D(7, 6, padding='same', input_shape=(bach_size, 1)))\n",
    "        model.add(Activation('relu'))\n",
    "        model.add(MaxPooling1D(7, padding='same'))\n",
    "        model.add(Conv1D(7, 2, padding='same', activation='relu'))\n",
    "        model.add(MaxPooling1D(3, padding='same'))\n",
    "\n",
    "        model.add(Flatten())\n",
    "        model.add(Dense(units=2, activation='softmax'))\n",
    "        model.compile(loss='mse', optimizer='adam', metrics=[\"accuracy\"])\n",
    "\n",
    "        # 学習\n",
    "        history = model.fit(X_train, y_train, epochs=10)\n",
    "        \n",
    "        # 評価結果（識別率）を格納\n",
    "        score = model.evaluate(X_test, y_test)\n",
    "        kCVscore[i] = score[1]\n",
    "        print(score[1])\n",
    "        i = i + 1"
   ]
  },
  {
   "cell_type": "code",
   "execution_count": 563,
   "metadata": {},
   "outputs": [
    {
     "data": {
      "text/plain": [
       "array([ 0.14285715,  0.5714286 ,  1.        ])"
      ]
     },
     "execution_count": 563,
     "metadata": {},
     "output_type": "execute_result"
    }
   ],
   "source": [
    "kCVscore"
   ]
  },
  {
   "cell_type": "code",
   "execution_count": null,
   "metadata": {
    "collapsed": true
   },
   "outputs": [],
   "source": []
  }
 ],
 "metadata": {
  "kernelspec": {
   "display_name": "Python 3",
   "language": "python",
   "name": "python3"
  },
  "language_info": {
   "codemirror_mode": {
    "name": "ipython",
    "version": 3
   },
   "file_extension": ".py",
   "mimetype": "text/x-python",
   "name": "python",
   "nbconvert_exporter": "python",
   "pygments_lexer": "ipython3",
   "version": "3.6.1"
  }
 },
 "nbformat": 4,
 "nbformat_minor": 2
}
