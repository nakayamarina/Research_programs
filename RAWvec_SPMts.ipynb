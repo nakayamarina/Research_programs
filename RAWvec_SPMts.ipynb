{
 "cells": [
  {
   "cell_type": "markdown",
   "metadata": {},
   "source": [
    "# RAW dataから新しいベクトル生成\n",
    "### M1seminner2の考察より\n",
    "---  \n",
    "  \n",
    "引数：all_raw.csvがあるディレクトリまでのパス  \n",
    "  \n",
    "---  \n",
    "  \n",
    "入力：all_raw.csv  \n",
    "  \n",
    "---\n",
    "   \n",
    "出力：RAWvec_SPMts_rest.csv/RAWvec_SPMts_tap.csv　以下に従ってベクトル化したもの\n",
    "  \n",
    "---  \n",
    "  \n",
    "Preprocessing_block.pyでまとめた，\n",
    "\n",
    "* Tapping/Rest時の10ボクセルのデータ（all_raw.csv）  \n",
    "  \n",
    "を時系列，各ボクセルの値のパターンを考慮してベクトル化する．  \n",
    "\n",
    "前から voxel.1, voxel.2, ... , voxel.10  \n",
    "rest    [ (01~10scan), (01~10scan), ... , (01~10scan) ]  \n",
    "tapping [ (11~20scan), (11~20scan), ... , (11~20scan) ]  \n",
    "rest    [ (21~30scan), (21~30scan), ... , (21~30scan) ]  \n",
    "...  \n",
    "  \n",
    "( )には，1ブロック分を入れる（以下参照）   \n",
    "※ただし，pythonは0始まりなので注意  \n",
    "  \n",
    "\n",
    "[12ch or 32ch Head coil]  \n",
    "\n",
    "120 scan（360s）  \n",
    "TR 3s / 1scan  \n",
    "\n",
    "1-10:\tRest  \n",
    "11-20:  Tapping    \n",
    "21-30:\tRest  \n",
    "31-40:  Tapping  \n",
    "41-50:\tRest  \n",
    "51-60:  Tapping  \n",
    "61-70:\tRest  \n",
    "71-80:  Tapping  \n",
    "81-90:\tRest  \n",
    "91-100:  Tapping  \n",
    "101-110: Rest  \n",
    "111-120:  Tapping  \n",
    "  \n",
    "[32ch Multi-band]  \n",
    "\n",
    "360 scan（360s）  \n",
    "TR 1s / 1scan  \n",
    "\n",
    "1-30:\tRest  \n",
    "31-60:  Tapping  \n",
    "61-90:\tRest  \n",
    "91-120:  Tapping  \n",
    "121-150: Rest  \n",
    "151-180: Tapping  \n",
    "181-210: Rest  \n",
    "211-240: Tapping  \n",
    "241-270: Rest  \n",
    "271-300: Tapping  \n",
    "301-330: Rest  \n",
    "331-360: Tapping  "
   ]
  },
  {
   "cell_type": "code",
   "execution_count": 61,
   "metadata": {},
   "outputs": [
    {
     "name": "stdout",
     "output_type": "stream",
     "text": [
      "########## RAWvec_SPMts.py program excution ############\n"
     ]
    }
   ],
   "source": [
    "print('########## RAWvec_SPMts.py program excution ############')"
   ]
  },
  {
   "cell_type": "code",
   "execution_count": 62,
   "metadata": {
    "collapsed": true
   },
   "outputs": [],
   "source": [
    "import numpy as np\n",
    "from scipy import signal\n",
    "import sys\n",
    "import pandas as pd"
   ]
  },
  {
   "cell_type": "markdown",
   "metadata": {},
   "source": [
    "コマンドライン引数でraw_tap.csv/raw_rest.csvがあるディレクトリまでのパスを取得"
   ]
  },
  {
   "cell_type": "code",
   "execution_count": 73,
   "metadata": {
    "collapsed": true
   },
   "outputs": [],
   "source": [
    "#args = sys.argv\n",
    "#PATH = args[1]\n",
    "\n",
    "# jupyter notebookのときはここで指定\n",
    "PATH = '../Data_block/analysis_by_programs/20170130ar/mb/RawData/'"
   ]
  },
  {
   "cell_type": "markdown",
   "metadata": {},
   "source": [
    "## RAWvec関数\n",
    "引数としてmain関数で読み込んだデータをdataで受け取る．  \n",
    "RAWvec_SPMts_rest.csv/RAWvec_SPMts_tap.csvを書き出す．"
   ]
  },
  {
   "cell_type": "code",
   "execution_count": 77,
   "metadata": {
    "collapsed": true
   },
   "outputs": [],
   "source": [
    "def RAWvec(data):\n",
    "    \n",
    "    # 生成したベクトルを格納する用\n",
    "    restVec = []\n",
    "    tapVec = []\n",
    "    \n",
    "    # 1ブロックあたりのscan数をnumber_scanに格納\n",
    "    if len(data) == 120:\n",
    "        number_scan = 10\n",
    "\n",
    "    if len(data) == 360:\n",
    "        number_scan = 30\n",
    "\n",
    "    \n",
    "    for task in range(int(len(data) / number_scan)):\n",
    "        \n",
    "        # 1ブロックの始まり\n",
    "        bf = task * number_scan\n",
    "        # 1ブロックの終わり\n",
    "        be = bf + number_scan\n",
    "        \n",
    "        # 各ボクセルの1ブロックを取得,配列変換\n",
    "        newVec = np.array(data[bf:be].T)\n",
    "        \n",
    "        # 2次元配列になっているので1次元配列変換\n",
    "        newVec = np.ravel(newVec)\n",
    "        \n",
    "        # rest\n",
    "        if task % 2 == 0:\n",
    "            \n",
    "            # 結合\n",
    "            restVec.append(newVec)\n",
    "            print(\"Rest : \" + str(bf) + \"~\" + str(be-1))\n",
    "            \n",
    "        # tap\n",
    "        else :\n",
    "            \n",
    "            #結合\n",
    "            tapVec.append(newVec)\n",
    "            print(\"Tapping : \" + str(bf) + \"~\" + str(be-1))\n",
    "            \n",
    "            \n",
    "    # DataFrame型に直しておく\n",
    "    restVec = pd.DataFrame(restVec)\n",
    "    tapVec = pd.DataFrame(tapVec)\n",
    "    \n",
    "    # csv書き出し\n",
    "    PATH_REST = PATH + 'RAWvec_SPMts_rest.csv'\n",
    "    restVec.to_csv(PATH_REST, index = False)\n",
    "    \n",
    "    PATH_TAP = PATH + 'RAWvec_SPMts_tap.csv'\n",
    "    tapVec.to_csv(PATH_TAP, index = False)\n",
    "    \n",
    "    return"
   ]
  },
  {
   "cell_type": "markdown",
   "metadata": {},
   "source": [
    "## main関数\n",
    "\n",
    "* all_raw.csv読み込み\n",
    "* RAWvec関数呼び出し\n",
    "* RAWvec_SPMts_rest.csv/RAWvec_SPMts_tap.csvの書き出し"
   ]
  },
  {
   "cell_type": "code",
   "execution_count": 78,
   "metadata": {
    "collapsed": true
   },
   "outputs": [],
   "source": [
    "if __name__ == '__main__':\n",
    "    \n",
    "    # 読み込みたいファイルのパス\n",
    "    PATH_raw = PATH + 'all_raw.csv'\n",
    "    \n",
    "    # csvファイル読み込み\n",
    "    rawdata = pd.read_csv(PATH_raw, header = 0)\n",
    "    "
   ]
  },
  {
   "cell_type": "code",
   "execution_count": 79,
   "metadata": {
    "collapsed": true
   },
   "outputs": [],
   "source": [
    "    RAWvec(rawdata)"
   ]
  },
  {
   "cell_type": "code",
   "execution_count": null,
   "metadata": {
    "collapsed": true
   },
   "outputs": [],
   "source": []
  }
 ],
 "metadata": {
  "kernelspec": {
   "display_name": "Python 3",
   "language": "python",
   "name": "python3"
  },
  "language_info": {
   "codemirror_mode": {
    "name": "ipython",
    "version": 3
   },
   "file_extension": ".py",
   "mimetype": "text/x-python",
   "name": "python",
   "nbconvert_exporter": "python",
   "pygments_lexer": "ipython3",
   "version": "3.6.1"
  }
 },
 "nbformat": 4,
 "nbformat_minor": 2
}
